{
  "nbformat": 4,
  "nbformat_minor": 0,
  "metadata": {
    "kernelspec": {
      "display_name": "Python 3",
      "language": "python",
      "name": "python3"
    },
    "language_info": {
      "codemirror_mode": {
        "name": "ipython",
        "version": 3
      },
      "file_extension": ".py",
      "mimetype": "text/x-python",
      "name": "python",
      "nbconvert_exporter": "python",
      "pygments_lexer": "ipython3",
      "version": "3.8.5"
    },
    "colab": {
      "name": "ETL_Operations_PySpark_C.ipynb",
      "provenance": [],
      "collapsed_sections": [],
      "include_colab_link": true
    }
  },
  "cells": [
    {
      "cell_type": "markdown",
      "metadata": {
        "id": "view-in-github",
        "colab_type": "text"
      },
      "source": [
        "<a href=\"https://colab.research.google.com/github/pallavibekal/Data-Engineering-Spark-and-Hadoop-Code/blob/main/ETL_Operations_PySpark_C.ipynb\" target=\"_parent\"><img src=\"https://colab.research.google.com/assets/colab-badge.svg\" alt=\"Open In Colab\"/></a>"
      ]
    },
    {
      "cell_type": "markdown",
      "metadata": {
        "id": "NCtEIcCVFhO8"
      },
      "source": [
        "# Advanced Certification Program in Computational Data Science\n",
        "## A program by IISc and TalentSprint\n",
        "### Assignment 5: ETL concepts and pipeline"
      ]
    },
    {
      "cell_type": "markdown",
      "metadata": {
        "id": "nH6llaZpFhPC"
      },
      "source": [
        "## Learning Objectives"
      ]
    },
    {
      "cell_type": "markdown",
      "metadata": {
        "id": "qxQatabcFhPD"
      },
      "source": [
        "At the end of the experiment, you will be able to:\n",
        "\n",
        "* use Spark’s built-in and external data sources to read, refine, and write data in different file formats as part of the extract, transform, and load (ETL) tasks\n",
        "* perform complex data exploration and analysis using Spark SQL"
      ]
    },
    {
      "cell_type": "markdown",
      "metadata": {
        "id": "GAEv9h69FhPE"
      },
      "source": [
        "### Introduction"
      ]
    },
    {
      "cell_type": "markdown",
      "metadata": {
        "id": "nFzjN683FhPE"
      },
      "source": [
        "ETL (Extract, Transform, and Load) is the procedure of migrating data from one system to another.\n",
        "* Data **extraction** is the process of retrieving data out of homogeneous or heterogeneous sources for further data processing and data storage.\n",
        "* During data **transformation**, the data is cleaned and incorrect or inaccurate records are modified or deleted.\n",
        "* Finally, the processed data is **loaded** (or stored) into a target system such as a data warehouse or NoSQL database or RDBMS.\n",
        "\n",
        "Data engineers use Spark because it provides a simple way to parallelize computations and hides all the complexity of distribution and fault tolerance. This leaves them free to focus on using high-level DataFrame-based APIs and domain-specific language queries to do ETL, reading and combining data from multiple sources.\n",
        "\n",
        "Here we will consider tabular data to do ETL operations. Starting from data extraction, we will perform various transformations and try to gain some insights from it and then load it to a NoSQL database or store it in different file formats."
      ]
    },
    {
      "cell_type": "markdown",
      "metadata": {
        "id": "jptEWxkKFhPD"
      },
      "source": [
        "### Dataset"
      ]
    },
    {
      "cell_type": "markdown",
      "metadata": {
        "id": "1b0GRwC0FhPE"
      },
      "source": [
        "The dataset chosen for this assignment is [Productivity Prediction of Garment Employees](https://archive.ics.uci.edu/ml/datasets/Productivity+Prediction+of+Garment+Employees). The dataset is made up of 1197 records and 15 columns. It includes important attributes of the garment manufacturing process and the productivity of the employees. The dataset contains records of three months (Jan to Mar 2015) with 2 distinct departments, 12 unique team numbers and 5 different quarters. Some of the features are listed below:\n",
        "\n",
        "* date: Date in MM-DD-YYYY\n",
        "* day: Day of the Week\n",
        "* quarter: A portion of the month. A month was divided into four quarters\n",
        "* department: Associated department with the instance\n",
        "* team: Associated team number with the instance\n",
        "* no_of_workers: Number of workers in each team\n",
        "* no_of_style_change: Number of changes in the style of a particular product\n",
        "* targeted_productivity: Targeted productivity set by the Authority for each team for each day.\n",
        "* smv: Standard Minute Value, it is the allocated time for a task\n",
        "* wip: Work in progress. Includes the number of unfinished items for products\n",
        "* overtime: Represents the amount of overtime by each team in minutes\n",
        "* incentive: Represents the amount of financial incentive (in BDT) that enables or motivates a particular course of action.\n",
        "* idletime: The amount of time when the production was interrupted due to several reasons\n",
        "* idlemen: The number of workers who were idle due to production interruption\n",
        "* actual_productivity: The actual % of productivity that was delivered by the workers. It ranges from 0-1.\n",
        "\n",
        "Date, quarter, department, and day are object datatypes and the rest are int or float types.\n",
        "\n",
        "To know more about the dataset click [here](https://archive.ics.uci.edu/ml/datasets/Productivity+Prediction+of+Garment+Employees)."
      ]
    },
    {
      "cell_type": "markdown",
      "metadata": {
        "id": "BNLA8HiKxQhc"
      },
      "source": [
        "### Setup Steps:"
      ]
    },
    {
      "cell_type": "code",
      "metadata": {
        "id": "2YzfoPvJDiTX"
      },
      "source": [
        "#@title Please enter your registration id to start: { run: \"auto\", display-mode: \"form\" }\n",
        "Id = \"2200092\" #@param {type:\"string\"}"
      ],
      "execution_count": 1,
      "outputs": []
    },
    {
      "cell_type": "code",
      "metadata": {
        "id": "AjoZJWGErxGf"
      },
      "source": [
        "#@title Please enter your password (your registered phone number) to continue: { run: \"auto\", display-mode: \"form\" }\n",
        "password = \"9686800288\" #@param {type:\"string\"}"
      ],
      "execution_count": 2,
      "outputs": []
    },
    {
      "cell_type": "code",
      "metadata": {
        "id": "WBPPuGmBlDIN",
        "cellView": "form",
        "colab": {
          "base_uri": "https://localhost:8080/",
          "height": 34
        },
        "outputId": "d5ef009f-5bef-49a2-b260-5962506034e8"
      },
      "source": [
        "#@title Run this cell to complete the setup for this Notebook\n",
        "from IPython import get_ipython\n",
        "\n",
        "ipython = get_ipython()\n",
        "  \n",
        "notebook= \"M5_AST_05_ETL_Operations_PySpark_C\" #name of the notebook\n",
        "\n",
        "def setup():\n",
        "#  ipython.magic(\"sx pip3 install torch\")\n",
        "    ipython.magic(\"sx wget https://cdn.iisc.talentsprint.com/CDS/Datasets/garments_worker_productivity.csv\")\n",
        "    from IPython.display import HTML, display\n",
        "    display(HTML('<script src=\"https://dashboard.talentsprint.com/aiml/record_ip.html?traineeId={0}&recordId={1}\"></script>'.format(getId(),submission_id)))\n",
        "    print(\"Setup completed successfully\")\n",
        "    return\n",
        "\n",
        "def submit_notebook():\n",
        "    ipython.magic(\"notebook -e \"+ notebook + \".ipynb\")\n",
        "    \n",
        "    import requests, json, base64, datetime\n",
        "\n",
        "    url = \"https://dashboard.talentsprint.com/xp/app/save_notebook_attempts\"\n",
        "    if not submission_id:\n",
        "      data = {\"id\" : getId(), \"notebook\" : notebook, \"mobile\" : getPassword()}\n",
        "      r = requests.post(url, data = data)\n",
        "      r = json.loads(r.text)\n",
        "\n",
        "      if r[\"status\"] == \"Success\":\n",
        "          return r[\"record_id\"]\n",
        "      elif \"err\" in r:        \n",
        "        print(r[\"err\"])\n",
        "        return None        \n",
        "      else:\n",
        "        print (\"Something is wrong, the notebook will not be submitted for grading\")\n",
        "        return None\n",
        "    \n",
        "    elif getAnswer() and getComplexity() and getAdditional() and getConcepts() and getComments() and getMentorSupport():\n",
        "      f = open(notebook + \".ipynb\", \"rb\")\n",
        "      file_hash = base64.b64encode(f.read())\n",
        "\n",
        "      data = {\"complexity\" : Complexity, \"additional\" :Additional, \n",
        "              \"concepts\" : Concepts, \"record_id\" : submission_id, \n",
        "              \"answer\" : Answer, \"id\" : Id, \"file_hash\" : file_hash,\n",
        "              \"notebook\" : notebook,\n",
        "              \"feedback_experiments_input\" : Comments,\n",
        "              \"feedback_mentor_support\": Mentor_support}\n",
        "      r = requests.post(url, data = data)\n",
        "      r = json.loads(r.text)\n",
        "      if \"err\" in r:        \n",
        "        print(r[\"err\"])\n",
        "        return None   \n",
        "      else:\n",
        "        print(\"Your submission is successful.\")\n",
        "        print(\"Ref Id:\", submission_id)\n",
        "        print(\"Date of submission: \", r[\"date\"])\n",
        "        print(\"Time of submission: \", r[\"time\"])\n",
        "        print(\"View your submissions: https://cds.iisc.talentsprint.com/notebook_submissions\")\n",
        "        #print(\"For any queries/discrepancies, please connect with mentors through the chat icon in LMS dashboard.\")\n",
        "        return submission_id\n",
        "    else: submission_id\n",
        "    \n",
        "\n",
        "def getAdditional():\n",
        "  try:\n",
        "    if not Additional: \n",
        "      raise NameError\n",
        "    else:\n",
        "      return Additional  \n",
        "  except NameError:\n",
        "    print (\"Please answer Additional Question\")\n",
        "    return None\n",
        "\n",
        "def getComplexity():\n",
        "  try:\n",
        "    if not Complexity:\n",
        "      raise NameError\n",
        "    else:\n",
        "      return Complexity\n",
        "  except NameError:\n",
        "    print (\"Please answer Complexity Question\")\n",
        "    return None\n",
        "  \n",
        "def getConcepts():\n",
        "  try:\n",
        "    if not Concepts:\n",
        "      raise NameError\n",
        "    else:\n",
        "      return Concepts\n",
        "  except NameError:\n",
        "    print (\"Please answer Concepts Question\")\n",
        "    return None\n",
        "  \n",
        "  \n",
        "# def getWalkthrough():\n",
        "#   try:\n",
        "#     if not Walkthrough:\n",
        "#       raise NameError\n",
        "#     else:\n",
        "#       return Walkthrough\n",
        "#   except NameError:\n",
        "#     print (\"Please answer Walkthrough Question\")\n",
        "#     return None\n",
        "  \n",
        "def getComments():\n",
        "  try:\n",
        "    if not Comments:\n",
        "      raise NameError\n",
        "    else:\n",
        "      return Comments\n",
        "  except NameError:\n",
        "    print (\"Please answer Comments Question\")\n",
        "    return None\n",
        "  \n",
        "\n",
        "def getMentorSupport():\n",
        "  try:\n",
        "    if not Mentor_support:\n",
        "      raise NameError\n",
        "    else:\n",
        "      return Mentor_support\n",
        "  except NameError:\n",
        "    print (\"Please answer Mentor support Question\")\n",
        "    return None\n",
        "\n",
        "def getAnswer():\n",
        "  try:\n",
        "    if not Answer:\n",
        "      raise NameError \n",
        "    else: \n",
        "      return Answer\n",
        "  except NameError:\n",
        "    print (\"Please answer Question\")\n",
        "    return None\n",
        "  \n",
        "\n",
        "def getId():\n",
        "  try: \n",
        "    return Id if Id else None\n",
        "  except NameError:\n",
        "    return None\n",
        "\n",
        "def getPassword():\n",
        "  try:\n",
        "    return password if password else None\n",
        "  except NameError:\n",
        "    return None\n",
        "\n",
        "submission_id = None\n",
        "### Setup \n",
        "if getPassword() and getId():\n",
        "  submission_id = submit_notebook()\n",
        "  if submission_id:\n",
        "    setup() \n",
        "else:\n",
        "  print (\"Please complete Id and Password cells before running setup\")\n",
        "\n"
      ],
      "execution_count": 3,
      "outputs": [
        {
          "output_type": "display_data",
          "data": {
            "text/html": [
              "<script src=\"https://dashboard.talentsprint.com/aiml/record_ip.html?traineeId=2200092&recordId=6741\"></script>"
            ],
            "text/plain": [
              "<IPython.core.display.HTML object>"
            ]
          },
          "metadata": {}
        },
        {
          "output_type": "stream",
          "name": "stdout",
          "text": [
            "Setup completed successfully\n"
          ]
        }
      ]
    },
    {
      "cell_type": "markdown",
      "metadata": {
        "id": "dHY77Q8DFhPF"
      },
      "source": [
        "### Install Pyspark"
      ]
    },
    {
      "cell_type": "code",
      "metadata": {
        "id": "KPf_EpH-FhPF",
        "colab": {
          "base_uri": "https://localhost:8080/"
        },
        "outputId": "4652ffd3-8fa3-4c5b-ebbb-2e58f6cd2ebe"
      },
      "source": [
        "!pip install pyspark"
      ],
      "execution_count": 4,
      "outputs": [
        {
          "output_type": "stream",
          "name": "stdout",
          "text": [
            "Collecting pyspark\n",
            "  Downloading pyspark-3.2.1.tar.gz (281.4 MB)\n",
            "\u001b[K     |████████████████████████████████| 281.4 MB 37 kB/s \n",
            "\u001b[?25hCollecting py4j==0.10.9.3\n",
            "  Downloading py4j-0.10.9.3-py2.py3-none-any.whl (198 kB)\n",
            "\u001b[K     |████████████████████████████████| 198 kB 50.5 MB/s \n",
            "\u001b[?25hBuilding wheels for collected packages: pyspark\n",
            "  Building wheel for pyspark (setup.py) ... \u001b[?25l\u001b[?25hdone\n",
            "  Created wheel for pyspark: filename=pyspark-3.2.1-py2.py3-none-any.whl size=281853642 sha256=69db67132e349b3de1ac66afb4daddb7bb9d5fc69dee25d442bad53fcb046c51\n",
            "  Stored in directory: /root/.cache/pip/wheels/9f/f5/07/7cd8017084dce4e93e84e92efd1e1d5334db05f2e83bcef74f\n",
            "Successfully built pyspark\n",
            "Installing collected packages: py4j, pyspark\n",
            "Successfully installed py4j-0.10.9.3 pyspark-3.2.1\n"
          ]
        }
      ]
    },
    {
      "cell_type": "markdown",
      "metadata": {
        "id": "Cq_ToATpFhPF"
      },
      "source": [
        "### Import required packages"
      ]
    },
    {
      "cell_type": "code",
      "metadata": {
        "id": "FmMx7T9eFhPG"
      },
      "source": [
        "from pyspark.sql import SparkSession\n",
        "from pyspark.sql.functions import *\n",
        "from pyspark.ml.feature import VectorAssembler\n",
        "from pyspark.ml.feature import MinMaxScaler\n",
        "import seaborn as sns\n",
        "from matplotlib import pyplot as plt\n",
        "import pandas as pd"
      ],
      "execution_count": 5,
      "outputs": []
    },
    {
      "cell_type": "markdown",
      "metadata": {
        "id": "bO5nb-O0FhPG"
      },
      "source": [
        "### Start a Spark Session"
      ]
    },
    {
      "cell_type": "markdown",
      "metadata": {
        "id": "pRSLW_ZqFhPG"
      },
      "source": [
        "Spark session is a combined entry point of a Spark application, which came into implementation from Spark 2.0. Instead of having various context, everything is now encapsulated in a **Spark session**."
      ]
    },
    {
      "cell_type": "code",
      "metadata": {
        "id": "sY9Ht3RFFhPG",
        "colab": {
          "base_uri": "https://localhost:8080/",
          "height": 219
        },
        "outputId": "bb93924c-cad7-44e8-8cc7-306550a5baec"
      },
      "source": [
        "# Start spark session\n",
        "from pyspark.sql import SparkSession\n",
        "spark = SparkSession.builder.appName('ETL').getOrCreate()\n",
        "spark"
      ],
      "execution_count": 6,
      "outputs": [
        {
          "output_type": "execute_result",
          "data": {
            "text/html": [
              "\n",
              "            <div>\n",
              "                <p><b>SparkSession - in-memory</b></p>\n",
              "                \n",
              "        <div>\n",
              "            <p><b>SparkContext</b></p>\n",
              "\n",
              "            <p><a href=\"http://377c68d24f4c:4040\">Spark UI</a></p>\n",
              "\n",
              "            <dl>\n",
              "              <dt>Version</dt>\n",
              "                <dd><code>v3.2.1</code></dd>\n",
              "              <dt>Master</dt>\n",
              "                <dd><code>local[*]</code></dd>\n",
              "              <dt>AppName</dt>\n",
              "                <dd><code>ETL</code></dd>\n",
              "            </dl>\n",
              "        </div>\n",
              "        \n",
              "            </div>\n",
              "        "
            ],
            "text/plain": [
              "<pyspark.sql.session.SparkSession at 0x7ff658cc25d0>"
            ]
          },
          "metadata": {},
          "execution_count": 6
        }
      ]
    },
    {
      "cell_type": "markdown",
      "metadata": {
        "id": "gOYuB7SBFhPG"
      },
      "source": [
        "### Tabular Data Analytics"
      ]
    },
    {
      "cell_type": "markdown",
      "metadata": {
        "id": "MBlN05cNFhPH"
      },
      "source": [
        "#### Extract data into PySpark\n",
        "To load the dataset we will use the read.csv module.  The inferSchema parameter provided will enable Spark to automatically determine the data type for each column."
      ]
    },
    {
      "cell_type": "code",
      "metadata": {
        "id": "cHiMKSPZFhPH"
      },
      "source": [
        "df = spark.read.csv('garments_worker_productivity.csv', header=True, inferSchema= True)"
      ],
      "execution_count": 7,
      "outputs": []
    },
    {
      "cell_type": "markdown",
      "metadata": {
        "id": "ni5SQb1uFhPH"
      },
      "source": [
        "#### Transforming Data"
      ]
    },
    {
      "cell_type": "markdown",
      "metadata": {
        "id": "8hOkkyXNFhPI"
      },
      "source": [
        "* Display first few rows of the data"
      ]
    },
    {
      "cell_type": "code",
      "metadata": {
        "id": "PqiEA5SqFhPI",
        "colab": {
          "base_uri": "https://localhost:8080/"
        },
        "outputId": "e2ffa0c3-56de-4da0-ec94-97bdff28af0a"
      },
      "source": [
        "df.show(5)"
      ],
      "execution_count": 8,
      "outputs": [
        {
          "output_type": "stream",
          "name": "stdout",
          "text": [
            "+--------+--------+----------+--------+----+---------------------+-----+----+---------+---------+---------+--------+------------------+-------------+-------------------+\n",
            "|    date| quarter|department|     day|team|targeted_productivity|  smv| wip|over_time|incentive|idle_time|idle_men|no_of_style_change|no_of_workers|actual_productivity|\n",
            "+--------+--------+----------+--------+----+---------------------+-----+----+---------+---------+---------+--------+------------------+-------------+-------------------+\n",
            "|1/1/2015|Quarter1|    sweing|Thursday|   8|                  0.8|26.16|1108|     7080|       98|      0.0|       0|                 0|         59.0|        0.940725424|\n",
            "|1/1/2015|Quarter1|finishing |Thursday|   1|                 0.75| 3.94|null|      960|        0|      0.0|       0|                 0|          8.0|             0.8865|\n",
            "|1/1/2015|Quarter1|    sweing|Thursday|  11|                  0.8|11.41| 968|     3660|       50|      0.0|       0|                 0|         30.5|        0.800570492|\n",
            "|1/1/2015|Quarter1|    sweing|Thursday|  12|                  0.8|11.41| 968|     3660|       50|      0.0|       0|                 0|         30.5|        0.800570492|\n",
            "|1/1/2015|Quarter1|    sweing|Thursday|   6|                  0.8| 25.9|1170|     1920|       50|      0.0|       0|                 0|         56.0|        0.800381944|\n",
            "+--------+--------+----------+--------+----+---------------------+-----+----+---------+---------+---------+--------+------------------+-------------+-------------------+\n",
            "only showing top 5 rows\n",
            "\n"
          ]
        }
      ]
    },
    {
      "cell_type": "markdown",
      "metadata": {
        "id": "Eyu_0_uHFhPI"
      },
      "source": [
        "In the above output, the wip (work in progress) column contains null values. We need to check for other columns as well.\n",
        "* Display total number of rows"
      ]
    },
    {
      "cell_type": "code",
      "metadata": {
        "id": "6-49cC7GFhPI",
        "colab": {
          "base_uri": "https://localhost:8080/"
        },
        "outputId": "bba8bbc6-1b34-4df2-9935-720e3f322278"
      },
      "source": [
        "df.count()"
      ],
      "execution_count": 9,
      "outputs": [
        {
          "output_type": "execute_result",
          "data": {
            "text/plain": [
              "1197"
            ]
          },
          "metadata": {},
          "execution_count": 9
        }
      ]
    },
    {
      "cell_type": "markdown",
      "metadata": {
        "id": "ZKWUDmyyFhPJ"
      },
      "source": [
        "* Check for Null values in each column"
      ]
    },
    {
      "cell_type": "code",
      "metadata": {
        "id": "PYQZZSAZFhPJ",
        "colab": {
          "base_uri": "https://localhost:8080/"
        },
        "outputId": "eb66c2f9-2467-48b8-c18e-a88bd3bc0a20"
      },
      "source": [
        "df.select([(count(when(isnan(c) | col(c).isNull(), c))/1197).alias(c) for c in df.columns]).show()"
      ],
      "execution_count": 10,
      "outputs": [
        {
          "output_type": "stream",
          "name": "stdout",
          "text": [
            "+----+-------+----------+---+----+---------------------+---+------------------+---------+---------+---------+--------+------------------+-------------+-------------------+\n",
            "|date|quarter|department|day|team|targeted_productivity|smv|               wip|over_time|incentive|idle_time|idle_men|no_of_style_change|no_of_workers|actual_productivity|\n",
            "+----+-------+----------+---+----+---------------------+---+------------------+---------+---------+---------+--------+------------------+-------------+-------------------+\n",
            "| 0.0|    0.0|       0.0|0.0| 0.0|                  0.0|0.0|0.4227234753550543|      0.0|      0.0|      0.0|     0.0|               0.0|          0.0|                0.0|\n",
            "+----+-------+----------+---+----+---------------------+---+------------------+---------+---------+---------+--------+------------------+-------------+-------------------+\n",
            "\n"
          ]
        }
      ]
    },
    {
      "cell_type": "markdown",
      "metadata": {
        "id": "wocbg9GvFhPK"
      },
      "source": [
        "The wip column contains around 42% null values so we can drop that column.\n",
        "* Drop the wip column having Null values"
      ]
    },
    {
      "cell_type": "code",
      "metadata": {
        "id": "VdYpNTTAFhPK"
      },
      "source": [
        "df1 = df.drop('wip')"
      ],
      "execution_count": 11,
      "outputs": []
    },
    {
      "cell_type": "code",
      "metadata": {
        "id": "Ig3e4w9HFhPK",
        "colab": {
          "base_uri": "https://localhost:8080/"
        },
        "outputId": "45cd31b0-aadb-4a4f-f032-2ad54987c0a5"
      },
      "source": [
        "# Recheck for null values\n",
        "df1.select([(count(when(isnan(c) | col(c).isNull(), c))/1197).alias(c) for c in df1.columns]).show()"
      ],
      "execution_count": 12,
      "outputs": [
        {
          "output_type": "stream",
          "name": "stdout",
          "text": [
            "+----+-------+----------+---+----+---------------------+---+---------+---------+---------+--------+------------------+-------------+-------------------+\n",
            "|date|quarter|department|day|team|targeted_productivity|smv|over_time|incentive|idle_time|idle_men|no_of_style_change|no_of_workers|actual_productivity|\n",
            "+----+-------+----------+---+----+---------------------+---+---------+---------+---------+--------+------------------+-------------+-------------------+\n",
            "| 0.0|    0.0|       0.0|0.0| 0.0|                  0.0|0.0|      0.0|      0.0|      0.0|     0.0|               0.0|          0.0|                0.0|\n",
            "+----+-------+----------+---+----+---------------------+---+---------+---------+---------+--------+------------------+-------------+-------------------+\n",
            "\n"
          ]
        }
      ]
    },
    {
      "cell_type": "markdown",
      "metadata": {
        "id": "k5M_8GG9FhPL"
      },
      "source": [
        "Let's see the distinct values in department column.\n",
        "* Display distinct `department` from dataframe"
      ]
    },
    {
      "cell_type": "code",
      "metadata": {
        "id": "PhXnYf4OFhPL",
        "colab": {
          "base_uri": "https://localhost:8080/"
        },
        "outputId": "810a3d1c-2326-4afa-df45-3ccbc108445b"
      },
      "source": [
        "# Display count of distinct 'department'\n",
        "df1.select('department').distinct().count()"
      ],
      "execution_count": 13,
      "outputs": [
        {
          "output_type": "execute_result",
          "data": {
            "text/plain": [
              "3"
            ]
          },
          "metadata": {},
          "execution_count": 13
        }
      ]
    },
    {
      "cell_type": "code",
      "metadata": {
        "id": "tSXZe3pwFhPL",
        "colab": {
          "base_uri": "https://localhost:8080/"
        },
        "outputId": "51b1666d-dc88-4aa1-e0ec-2d43920d0fd8"
      },
      "source": [
        "# Display distinct values for 'department' column\n",
        "df1.select('department').distinct().show()"
      ],
      "execution_count": 14,
      "outputs": [
        {
          "output_type": "stream",
          "name": "stdout",
          "text": [
            "+----------+\n",
            "|department|\n",
            "+----------+\n",
            "|    sweing|\n",
            "| finishing|\n",
            "|finishing |\n",
            "+----------+\n",
            "\n"
          ]
        }
      ]
    },
    {
      "cell_type": "markdown",
      "metadata": {
        "id": "I68uWOsiFhPL"
      },
      "source": [
        "There is ambiguity in distinct department values and it needs to be taken care of.\n",
        "* Transform department column"
      ]
    },
    {
      "cell_type": "code",
      "metadata": {
        "id": "yZdsPCaAFhPL"
      },
      "source": [
        "# Removing trailing spaces from both sides using department column\n",
        "df2 = df1.withColumn('department', trim(col('department')))"
      ],
      "execution_count": 15,
      "outputs": []
    },
    {
      "cell_type": "code",
      "metadata": {
        "id": "oRyZMZlSFhPM",
        "colab": {
          "base_uri": "https://localhost:8080/"
        },
        "outputId": "00e00b84-6a47-46a6-c6a0-a91cbde052a7"
      },
      "source": [
        "# Display distinct values for 'department' column\n",
        "df2.select('department').distinct().show()"
      ],
      "execution_count": 16,
      "outputs": [
        {
          "output_type": "stream",
          "name": "stdout",
          "text": [
            "+----------+\n",
            "|department|\n",
            "+----------+\n",
            "|    sweing|\n",
            "| finishing|\n",
            "+----------+\n",
            "\n"
          ]
        }
      ]
    },
    {
      "cell_type": "code",
      "metadata": {
        "id": "_195IjXEFhPM"
      },
      "source": [
        "# Replacing department value from 'sweing' to 'sewing' \n",
        "df3 = df2.withColumn('department', regexp_replace(col('department'), 'sweing', 'sewing'))"
      ],
      "execution_count": 17,
      "outputs": []
    },
    {
      "cell_type": "code",
      "metadata": {
        "id": "T2b72zb6FhPM",
        "colab": {
          "base_uri": "https://localhost:8080/"
        },
        "outputId": "f339b4a9-d6c8-497e-8d4a-62c84b41cc9c"
      },
      "source": [
        "# Display distinct values for 'department' column\n",
        "df3.select('department').distinct().show()"
      ],
      "execution_count": 18,
      "outputs": [
        {
          "output_type": "stream",
          "name": "stdout",
          "text": [
            "+----------+\n",
            "|department|\n",
            "+----------+\n",
            "|    sewing|\n",
            "| finishing|\n",
            "+----------+\n",
            "\n"
          ]
        }
      ]
    },
    {
      "cell_type": "markdown",
      "metadata": {
        "id": "5YPfkb-yFhPM"
      },
      "source": [
        "Similar to the distinct department values, our data might contain duplicate values as well.\n",
        "* Check for duplicate values in data"
      ]
    },
    {
      "cell_type": "code",
      "metadata": {
        "id": "kJHpOnaBFhPM",
        "colab": {
          "base_uri": "https://localhost:8080/"
        },
        "outputId": "edce9f24-c818-4890-d5d2-18ae484a62cd"
      },
      "source": [
        "cols = df3.columns\n",
        "if df3.count() > df3.dropDuplicates(cols).count():\n",
        "    print('Data has duplicates')\n",
        "else:\n",
        "  print('Data has no duplicates')"
      ],
      "execution_count": 19,
      "outputs": [
        {
          "output_type": "stream",
          "name": "stdout",
          "text": [
            "Data has no duplicates\n"
          ]
        }
      ]
    },
    {
      "cell_type": "markdown",
      "metadata": {
        "id": "-91dTPIBFhPN"
      },
      "source": [
        "If data has duplicate values, run the below cell by uncommenting it"
      ]
    },
    {
      "cell_type": "code",
      "metadata": {
        "id": "eS5t2r0_FhPN"
      },
      "source": [
        "# df3 = df3.dropDuplicates(df3.columns)"
      ],
      "execution_count": 20,
      "outputs": []
    },
    {
      "cell_type": "markdown",
      "metadata": {
        "id": "hFFNpfG-FhPN"
      },
      "source": [
        "After removing duplicates, let's take a look at the datatypes of our columns.\n",
        "* Display data types of dataframe columns"
      ]
    },
    {
      "cell_type": "code",
      "metadata": {
        "id": "fdaA7KR4FhPN",
        "colab": {
          "base_uri": "https://localhost:8080/"
        },
        "outputId": "8af3265b-c0b8-4048-d564-49f1c7fcb622"
      },
      "source": [
        "# Print the data types \n",
        "df3.dtypes"
      ],
      "execution_count": 21,
      "outputs": [
        {
          "output_type": "execute_result",
          "data": {
            "text/plain": [
              "[('date', 'string'),\n",
              " ('quarter', 'string'),\n",
              " ('department', 'string'),\n",
              " ('day', 'string'),\n",
              " ('team', 'int'),\n",
              " ('targeted_productivity', 'double'),\n",
              " ('smv', 'double'),\n",
              " ('over_time', 'int'),\n",
              " ('incentive', 'int'),\n",
              " ('idle_time', 'double'),\n",
              " ('idle_men', 'int'),\n",
              " ('no_of_style_change', 'int'),\n",
              " ('no_of_workers', 'double'),\n",
              " ('actual_productivity', 'double')]"
            ]
          },
          "metadata": {},
          "execution_count": 21
        }
      ]
    },
    {
      "cell_type": "markdown",
      "metadata": {
        "id": "CvLXXC_BFhPN"
      },
      "source": [
        "Here, the 'date' column has a string datatype. In order to perform analytics involving year and month, we need to convert it into timestamp datatype. \n",
        "* Transform the `date` column from string type to Spark `timestamp` data type"
      ]
    },
    {
      "cell_type": "code",
      "metadata": {
        "id": "X8PVJt_bFhPO"
      },
      "source": [
        "df4 = df3.withColumn(\"date\", to_timestamp(col(\"date\"), \"M/d/yyyy\"))"
      ],
      "execution_count": 22,
      "outputs": []
    },
    {
      "cell_type": "code",
      "metadata": {
        "id": "19alU-8kFhPO",
        "colab": {
          "base_uri": "https://localhost:8080/"
        },
        "outputId": "74561c2e-052c-419f-c150-d586b1a8cf1f"
      },
      "source": [
        "df4.dtypes"
      ],
      "execution_count": 23,
      "outputs": [
        {
          "output_type": "execute_result",
          "data": {
            "text/plain": [
              "[('date', 'timestamp'),\n",
              " ('quarter', 'string'),\n",
              " ('department', 'string'),\n",
              " ('day', 'string'),\n",
              " ('team', 'int'),\n",
              " ('targeted_productivity', 'double'),\n",
              " ('smv', 'double'),\n",
              " ('over_time', 'int'),\n",
              " ('incentive', 'int'),\n",
              " ('idle_time', 'double'),\n",
              " ('idle_men', 'int'),\n",
              " ('no_of_style_change', 'int'),\n",
              " ('no_of_workers', 'double'),\n",
              " ('actual_productivity', 'double')]"
            ]
          },
          "metadata": {},
          "execution_count": 23
        }
      ]
    },
    {
      "cell_type": "markdown",
      "metadata": {
        "id": "Clxysl2cFhPO"
      },
      "source": [
        "Now we can use the `year()` SQL Spark function on the Timestamp column data type `date`.\n",
        "* Display how many distinct years of data is in the dataset"
      ]
    },
    {
      "cell_type": "code",
      "metadata": {
        "id": "Zqe9JtGpFhPO",
        "colab": {
          "base_uri": "https://localhost:8080/"
        },
        "outputId": "8e4d3e66-c899-4914-c7b7-4be7eacff5ee"
      },
      "source": [
        "df4.select(year('date')).distinct().orderBy(year('date')).show()"
      ],
      "execution_count": 24,
      "outputs": [
        {
          "output_type": "stream",
          "name": "stdout",
          "text": [
            "+----------+\n",
            "|year(date)|\n",
            "+----------+\n",
            "|      2015|\n",
            "+----------+\n",
            "\n"
          ]
        }
      ]
    },
    {
      "cell_type": "markdown",
      "metadata": {
        "id": "mRbxYZF1FhPO"
      },
      "source": [
        "We see that all the records are from the year 2015.\n",
        "\n",
        "Similar to year() we can use the `month()` SQL Spark function on the Timestamp datatype column `date`.\n",
        "* Display how many distinct months of data is in the dataset"
      ]
    },
    {
      "cell_type": "code",
      "metadata": {
        "id": "ISePnPs0FhPR",
        "colab": {
          "base_uri": "https://localhost:8080/"
        },
        "outputId": "ba2f7225-0332-42dd-ed2c-8c6a657a2a44"
      },
      "source": [
        "df4.select(month('date')).distinct().orderBy(month('date')).show()"
      ],
      "execution_count": 25,
      "outputs": [
        {
          "output_type": "stream",
          "name": "stdout",
          "text": [
            "+-----------+\n",
            "|month(date)|\n",
            "+-----------+\n",
            "|          1|\n",
            "|          2|\n",
            "|          3|\n",
            "+-----------+\n",
            "\n"
          ]
        }
      ]
    },
    {
      "cell_type": "markdown",
      "metadata": {
        "id": "rS8SPyPGFhPS"
      },
      "source": [
        "We see that the data was collected in the months January to March."
      ]
    },
    {
      "cell_type": "markdown",
      "metadata": {
        "id": "C_ZMvuN9FhPS"
      },
      "source": [
        "* Check in which month the productivity was maximum"
      ]
    },
    {
      "cell_type": "code",
      "metadata": {
        "id": "F5fc05-0FhPS",
        "colab": {
          "base_uri": "https://localhost:8080/",
          "height": 435
        },
        "outputId": "d194dc5d-4726-449d-d096-db845b4448f1"
      },
      "source": [
        "df_d = df4.groupby(month('date')).avg().select(['month(date)', 'avg(actual_productivity)'])\n",
        "df_d.show()\n",
        "sns.barplot(x = df_d.toPandas()['month(date)'], y= df_d.toPandas()['avg(actual_productivity)'])"
      ],
      "execution_count": 26,
      "outputs": [
        {
          "output_type": "stream",
          "name": "stdout",
          "text": [
            "+-----------+------------------------+\n",
            "|month(date)|avg(actual_productivity)|\n",
            "+-----------+------------------------+\n",
            "|          1|      0.7554150713210328|\n",
            "|          3|      0.7189527641273588|\n",
            "|          2|      0.7179482808871328|\n",
            "+-----------+------------------------+\n",
            "\n"
          ]
        },
        {
          "output_type": "execute_result",
          "data": {
            "text/plain": [
              "<matplotlib.axes._subplots.AxesSubplot at 0x7ff658cbe110>"
            ]
          },
          "metadata": {},
          "execution_count": 26
        },
        {
          "output_type": "display_data",
          "data": {
            "image/png": "[encoded data removed]",
            "text/plain": [
              "<Figure size 432x288 with 1 Axes>"
            ]
          },
          "metadata": {
            "needs_background": "light"
          }
        }
      ]
    },
    {
      "cell_type": "markdown",
      "metadata": {
        "id": "nSgxRTs2FhPS"
      },
      "source": [
        "From the above plot, it can be seen that in January the productivity was little higher than remaining two.\n",
        "\n",
        "Let's gain few more insights from the data\n",
        "* Display the incentives paid to different teams"
      ]
    },
    {
      "cell_type": "code",
      "metadata": {
        "id": "1GM_CVgZFhPS",
        "colab": {
          "base_uri": "https://localhost:8080/",
          "height": 591
        },
        "outputId": "f44bdec5-f584-47da-a38e-6166a64bc1c5"
      },
      "source": [
        "df_i = df4.groupby('team').avg().select(['team', 'avg(incentive)'])\n",
        "df_i.show()\n",
        "sns.barplot(x = df_i.toPandas()['team'], y= df_i.toPandas()['avg(incentive)'])"
      ],
      "execution_count": 27,
      "outputs": [
        {
          "output_type": "stream",
          "name": "stdout",
          "text": [
            "+----+------------------+\n",
            "|team|    avg(incentive)|\n",
            "+----+------------------+\n",
            "|  12|  41.2020202020202|\n",
            "|   1|              46.6|\n",
            "|   6| 22.70212765957447|\n",
            "|   3| 49.55789473684211|\n",
            "|   5| 49.13978494623656|\n",
            "|   9| 60.93269230769231|\n",
            "|   4| 35.04761904761905|\n",
            "|   8|24.880733944954127|\n",
            "|   7|          15.53125|\n",
            "|  10|             36.33|\n",
            "|  11| 37.90909090909091|\n",
            "|   2|38.211009174311926|\n",
            "+----+------------------+\n",
            "\n"
          ]
        },
        {
          "output_type": "execute_result",
          "data": {
            "text/plain": [
              "<matplotlib.axes._subplots.AxesSubplot at 0x7ff657e85210>"
            ]
          },
          "metadata": {},
          "execution_count": 27
        },
        {
          "output_type": "display_data",
          "data": {
            "image/png": "[encoded data removed]",
            "text/plain": [
              "<Figure size 432x288 with 1 Axes>"
            ]
          },
          "metadata": {
            "needs_background": "light"
          }
        }
      ]
    },
    {
      "cell_type": "markdown",
      "metadata": {
        "id": "9IRv_tDkFhPS"
      },
      "source": [
        "So on average team 9 received the highest incentive.\n",
        "* Display number of workers in each Team"
      ]
    },
    {
      "cell_type": "code",
      "metadata": {
        "id": "9_3wTe13FhPS",
        "colab": {
          "base_uri": "https://localhost:8080/",
          "height": 591
        },
        "outputId": "167495da-8806-457f-9164-251e2ef1e52a"
      },
      "source": [
        "df_w = df4.groupby('team').sum().select(['team', 'sum(no_of_workers)'])\n",
        "df_w.show()\n",
        "sns.barplot(x = df_w.toPandas()['team'], y= df_w.toPandas()['sum(no_of_workers)'])"
      ],
      "execution_count": 28,
      "outputs": [
        {
          "output_type": "stream",
          "name": "stdout",
          "text": [
            "+----+------------------+\n",
            "|team|sum(no_of_workers)|\n",
            "+----+------------------+\n",
            "|  12|            2368.0|\n",
            "|   1|            3679.5|\n",
            "|   6|            2366.0|\n",
            "|   3|            3754.5|\n",
            "|   5|            3662.5|\n",
            "|   9|            3662.0|\n",
            "|   4|            4011.0|\n",
            "|   8|            3650.5|\n",
            "|   7|            3561.5|\n",
            "|  10|            3529.5|\n",
            "|  11|            3409.0|\n",
            "|   2|            3774.0|\n",
            "+----+------------------+\n",
            "\n"
          ]
        },
        {
          "output_type": "execute_result",
          "data": {
            "text/plain": [
              "<matplotlib.axes._subplots.AxesSubplot at 0x7ff657df1550>"
            ]
          },
          "metadata": {},
          "execution_count": 28
        },
        {
          "output_type": "display_data",
          "data": {
            "image/png": "[encoded data removed]",
            "text/plain": [
              "<Figure size 432x288 with 1 Axes>"
            ]
          },
          "metadata": {
            "needs_background": "light"
          }
        }
      ]
    },
    {
      "cell_type": "markdown",
      "metadata": {
        "id": "9EHlIhavFhPT"
      },
      "source": [
        "From the above plot, it can be seen that team 6 and 12 have less number of workers compared to other teams.\n",
        "\n",
        "Let's find out how much it costs for the first quarter of the first month.\n",
        "* Display the `incentive` paid for the first quarter of the first month"
      ]
    },
    {
      "cell_type": "code",
      "metadata": {
        "id": "KIKPLKx1FhPT",
        "colab": {
          "base_uri": "https://localhost:8080/"
        },
        "outputId": "dde3b498-4946-49fa-897d-91cee976a3fd"
      },
      "source": [
        "df_q = df4.select(month(\"date\"), \"quarter\", \"incentive\").where((col('month(date)') == 1) & (col(\"quarter\") == \"Quarter1\"))\n",
        "df_q.show(5)\n",
        "df_q.groupby('quarter').sum().select('sum(incentive)').show()"
      ],
      "execution_count": 29,
      "outputs": [
        {
          "output_type": "stream",
          "name": "stdout",
          "text": [
            "+-----------+--------+---------+\n",
            "|month(date)| quarter|incentive|\n",
            "+-----------+--------+---------+\n",
            "|          1|Quarter1|       98|\n",
            "|          1|Quarter1|        0|\n",
            "|          1|Quarter1|       50|\n",
            "|          1|Quarter1|       50|\n",
            "|          1|Quarter1|       50|\n",
            "+-----------+--------+---------+\n",
            "only showing top 5 rows\n",
            "\n",
            "+--------------+\n",
            "|sum(incentive)|\n",
            "+--------------+\n",
            "|          3525|\n",
            "+--------------+\n",
            "\n"
          ]
        }
      ]
    },
    {
      "cell_type": "markdown",
      "metadata": {
        "id": "g1oXWp_fFhPT"
      },
      "source": [
        "Before fitting to a model, the outlier removal and feature scaling of data are important.\n",
        "* Check for outliers"
      ]
    },
    {
      "cell_type": "code",
      "metadata": {
        "id": "N35RLI5PFhPT",
        "colab": {
          "base_uri": "https://localhost:8080/",
          "height": 363
        },
        "outputId": "79d30089-ff41-4d0e-f117-36a03327daef"
      },
      "source": [
        "df4.toPandas().boxplot()\n",
        "plt.xticks(rotation= 90)\n",
        "plt.show()"
      ],
      "execution_count": 30,
      "outputs": [
        {
          "output_type": "display_data",
          "data": {
            "image/png": "[encoded data removed]",
            "text/plain": [
              "<Figure size 432x288 with 1 Axes>"
            ]
          },
          "metadata": {
            "needs_background": "light"
          }
        }
      ]
    },
    {
      "cell_type": "markdown",
      "metadata": {
        "id": "4arjqqo6FhPT"
      },
      "source": [
        "* Handling outliers\n",
        "\n",
        "Here instead of removing the outliers we will change their values to upper bound and lower bound depending on whether the value is higher than upper bound or lower than lower bound respectively."
      ]
    },
    {
      "cell_type": "code",
      "metadata": {
        "id": "NkOMFKlvFhPT"
      },
      "source": [
        "df5 = df4\n",
        "outlier_cols = [\"targeted_productivity\", \"smv\", \"over_time\", \"incentive\", \"idle_time\", \"idle_men\", \"no_of_style_change\", \"actual_productivity\"] # Columns with outliers\n",
        "def handle_outliers(df, colm):\n",
        "    df = df.toPandas()\n",
        "    q1 = df.describe()[colm].loc[\"25%\"]\n",
        "    q3 = df.describe()[colm].loc[\"75%\"]\n",
        "    iqr = q3 - q1\n",
        "    lower_bound = q1 - (1.5 * iqr)\n",
        "    upper_bound = q3 + (1.5 * iqr)\n",
        "    for i in range(len(df)):\n",
        "      if df.loc[i,colm] > upper_bound:\n",
        "        df.loc[i,colm]= upper_bound\n",
        "      if df.loc[i,colm] < lower_bound:\n",
        "        df.loc[i,colm]= lower_bound\n",
        "    return spark.createDataFrame(df)\n",
        "    \n",
        "for colm in outlier_cols:\n",
        "    df5 = handle_outliers(df5, colm)"
      ],
      "execution_count": 31,
      "outputs": []
    },
    {
      "cell_type": "code",
      "metadata": {
        "id": "oWlcasCMFhPT",
        "colab": {
          "base_uri": "https://localhost:8080/",
          "height": 367
        },
        "outputId": "405378ca-f1ba-4c72-9b9d-3f8d050f939c"
      },
      "source": [
        "# Recheck for outliers\n",
        "df5.toPandas().boxplot()\n",
        "plt.xticks(rotation= 90)\n",
        "plt.show()"
      ],
      "execution_count": 32,
      "outputs": [
        {
          "output_type": "display_data",
          "data": {
            "image/png": "[encoded data removed]",
            "text/plain": [
              "<Figure size 432x288 with 1 Axes>"
            ]
          },
          "metadata": {
            "needs_background": "light"
          }
        }
      ]
    },
    {
      "cell_type": "markdown",
      "metadata": {
        "id": "DnDUZeBPFhPU"
      },
      "source": [
        "* Scaling features"
      ]
    },
    {
      "cell_type": "code",
      "metadata": {
        "id": "xpZy1k0GFhPU",
        "colab": {
          "base_uri": "https://localhost:8080/",
          "height": 364
        },
        "outputId": "4e200794-ef42-45fd-96a8-d7f919fb48de"
      },
      "source": [
        "# Display the statistics of dataframe\n",
        "df5.toPandas().describe()"
      ],
      "execution_count": 33,
      "outputs": [
        {
          "output_type": "execute_result",
          "data": {
            "text/html": [
              "\n",
              "  <div id=\"df-9c8b1d66-bb2e-4cdf-8872-95bd78970830\">\n",
              "    <div class=\"colab-df-container\">\n",
              "      <div>\n",
              "<style scoped>\n",
              "    .dataframe tbody tr th:only-of-type {\n",
              "        vertical-align: middle;\n",
              "    }\n",
              "\n",
              "    .dataframe tbody tr th {\n",
              "        vertical-align: top;\n",
              "    }\n",
              "\n",
              "    .dataframe thead th {\n",
              "        text-align: right;\n",
              "    }\n",
              "</style>\n",
              "<table border=\"1\" class=\"dataframe\">\n",
              "  <thead>\n",
              "    <tr style=\"text-align: right;\">\n",
              "      <th></th>\n",
              "      <th>team</th>\n",
              "      <th>targeted_productivity</th>\n",
              "      <th>smv</th>\n",
              "      <th>over_time</th>\n",
              "      <th>incentive</th>\n",
              "      <th>idle_time</th>\n",
              "      <th>idle_men</th>\n",
              "      <th>no_of_style_change</th>\n",
              "      <th>no_of_workers</th>\n",
              "      <th>actual_productivity</th>\n",
              "    </tr>\n",
              "  </thead>\n",
              "  <tbody>\n",
              "    <tr>\n",
              "      <th>count</th>\n",
              "      <td>1197.000000</td>\n",
              "      <td>1197.000000</td>\n",
              "      <td>1197.000000</td>\n",
              "      <td>1197.000000</td>\n",
              "      <td>1197.000000</td>\n",
              "      <td>1197.0</td>\n",
              "      <td>1197.0</td>\n",
              "      <td>1197.0</td>\n",
              "      <td>1197.000000</td>\n",
              "      <td>1197.000000</td>\n",
              "    </tr>\n",
              "    <tr>\n",
              "      <th>mean</th>\n",
              "      <td>6.426901</td>\n",
              "      <td>0.736842</td>\n",
              "      <td>15.062172</td>\n",
              "      <td>4558.538012</td>\n",
              "      <td>26.712615</td>\n",
              "      <td>0.0</td>\n",
              "      <td>0.0</td>\n",
              "      <td>0.0</td>\n",
              "      <td>34.609858</td>\n",
              "      <td>0.737397</td>\n",
              "    </tr>\n",
              "    <tr>\n",
              "      <th>std</th>\n",
              "      <td>3.463963</td>\n",
              "      <td>0.075515</td>\n",
              "      <td>10.943219</td>\n",
              "      <td>3305.837733</td>\n",
              "      <td>31.563351</td>\n",
              "      <td>0.0</td>\n",
              "      <td>0.0</td>\n",
              "      <td>0.0</td>\n",
              "      <td>22.197687</td>\n",
              "      <td>0.168772</td>\n",
              "    </tr>\n",
              "    <tr>\n",
              "      <th>min</th>\n",
              "      <td>1.000000</td>\n",
              "      <td>0.550000</td>\n",
              "      <td>2.900000</td>\n",
              "      <td>0.000000</td>\n",
              "      <td>0.000000</td>\n",
              "      <td>0.0</td>\n",
              "      <td>0.0</td>\n",
              "      <td>0.0</td>\n",
              "      <td>2.000000</td>\n",
              "      <td>0.350389</td>\n",
              "    </tr>\n",
              "    <tr>\n",
              "      <th>25%</th>\n",
              "      <td>3.000000</td>\n",
              "      <td>0.700000</td>\n",
              "      <td>3.940000</td>\n",
              "      <td>1440.000000</td>\n",
              "      <td>0.000000</td>\n",
              "      <td>0.0</td>\n",
              "      <td>0.0</td>\n",
              "      <td>0.0</td>\n",
              "      <td>9.000000</td>\n",
              "      <td>0.650307</td>\n",
              "    </tr>\n",
              "    <tr>\n",
              "      <th>50%</th>\n",
              "      <td>6.000000</td>\n",
              "      <td>0.750000</td>\n",
              "      <td>15.260000</td>\n",
              "      <td>3960.000000</td>\n",
              "      <td>0.000000</td>\n",
              "      <td>0.0</td>\n",
              "      <td>0.0</td>\n",
              "      <td>0.0</td>\n",
              "      <td>34.000000</td>\n",
              "      <td>0.773333</td>\n",
              "    </tr>\n",
              "    <tr>\n",
              "      <th>75%</th>\n",
              "      <td>9.000000</td>\n",
              "      <td>0.800000</td>\n",
              "      <td>24.260000</td>\n",
              "      <td>6960.000000</td>\n",
              "      <td>50.000000</td>\n",
              "      <td>0.0</td>\n",
              "      <td>0.0</td>\n",
              "      <td>0.0</td>\n",
              "      <td>57.000000</td>\n",
              "      <td>0.850253</td>\n",
              "    </tr>\n",
              "    <tr>\n",
              "      <th>max</th>\n",
              "      <td>12.000000</td>\n",
              "      <td>0.800000</td>\n",
              "      <td>54.560000</td>\n",
              "      <td>15240.000000</td>\n",
              "      <td>125.000000</td>\n",
              "      <td>0.0</td>\n",
              "      <td>0.0</td>\n",
              "      <td>0.0</td>\n",
              "      <td>89.000000</td>\n",
              "      <td>1.120437</td>\n",
              "    </tr>\n",
              "  </tbody>\n",
              "</table>\n",
              "</div>\n",
              "      <button class=\"colab-df-convert\" onclick=\"convertToInteractive('df-9c8b1d66-bb2e-4cdf-8872-95bd78970830')\"\n",
              "              title=\"Convert this dataframe to an interactive table.\"\n",
              "              style=\"display:none;\">\n",
              "        \n",
              "  <svg xmlns=\"http://www.w3.org/2000/svg\" height=\"24px\"viewBox=\"0 0 24 24\"\n",
              "       width=\"24px\">\n",
              "    <path d=\"M0 0h24v24H0V0z\" fill=\"none\"/>\n",
              "    <path d=\"M18.56 5.44l.94 2.06.94-2.06 2.06-.94-2.06-.94-.94-2.06-.94 2.06-2.06.94zm-11 1L8.5 8.5l.94-2.06 2.06-.94-2.06-.94L8.5 2.5l-.94 2.06-2.06.94zm10 10l.94 2.06.94-2.06 2.06-.94-2.06-.94-.94-2.06-.94 2.06-2.06.94z\"/><path d=\"M17.41 7.96l-1.37-1.37c-.4-.4-.92-.59-1.43-.59-.52 0-1.04.2-1.43.59L10.3 9.45l-7.72 7.72c-.78.78-.78 2.05 0 2.83L4 21.41c.39.39.9.59 1.41.59.51 0 1.02-.2 1.41-.59l7.78-7.78 2.81-2.81c.8-.78.8-2.07 0-2.86zM5.41 20L4 18.59l7.72-7.72 1.47 1.35L5.41 20z\"/>\n",
              "  </svg>\n",
              "      </button>\n",
              "      \n",
              "  <style>\n",
              "    .colab-df-container {\n",
              "      display:flex;\n",
              "      flex-wrap:wrap;\n",
              "      gap: 12px;\n",
              "    }\n",
              "\n",
              "    .colab-df-convert {\n",
              "      background-color: #E8F0FE;\n",
              "      border: none;\n",
              "      border-radius: 50%;\n",
              "      cursor: pointer;\n",
              "      display: none;\n",
              "      fill: #1967D2;\n",
              "      height: 32px;\n",
              "      padding: 0 0 0 0;\n",
              "      width: 32px;\n",
              "    }\n",
              "\n",
              "    .colab-df-convert:hover {\n",
              "      background-color: #E2EBFA;\n",
              "      box-shadow: 0px 1px 2px rgba(60, 64, 67, 0.3), 0px 1px 3px 1px rgba(60, 64, 67, 0.15);\n",
              "      fill: #174EA6;\n",
              "    }\n",
              "\n",
              "    [theme=dark] .colab-df-convert {\n",
              "      background-color: #3B4455;\n",
              "      fill: #D2E3FC;\n",
              "    }\n",
              "\n",
              "    [theme=dark] .colab-df-convert:hover {\n",
              "      background-color: #434B5C;\n",
              "      box-shadow: 0px 1px 3px 1px rgba(0, 0, 0, 0.15);\n",
              "      filter: drop-shadow(0px 1px 2px rgba(0, 0, 0, 0.3));\n",
              "      fill: #FFFFFF;\n",
              "    }\n",
              "  </style>\n",
              "\n",
              "      <script>\n",
              "        const buttonEl =\n",
              "          document.querySelector('#df-9c8b1d66-bb2e-4cdf-8872-95bd78970830 button.colab-df-convert');\n",
              "        buttonEl.style.display =\n",
              "          google.colab.kernel.accessAllowed ? 'block' : 'none';\n",
              "\n",
              "        async function convertToInteractive(key) {\n",
              "          const element = document.querySelector('#df-9c8b1d66-bb2e-4cdf-8872-95bd78970830');\n",
              "          const dataTable =\n",
              "            await google.colab.kernel.invokeFunction('convertToInteractive',\n",
              "                                                     [key], {});\n",
              "          if (!dataTable) return;\n",
              "\n",
              "          const docLinkHtml = 'Like what you see? Visit the ' +\n",
              "            '<a target=\"_blank\" href=https://colab.research.google.com/notebooks/data_table.ipynb>data table notebook</a>'\n",
              "            + ' to learn more about interactive tables.';\n",
              "          element.innerHTML = '';\n",
              "          dataTable['output_type'] = 'display_data';\n",
              "          await google.colab.output.renderOutput(dataTable, element);\n",
              "          const docLink = document.createElement('div');\n",
              "          docLink.innerHTML = docLinkHtml;\n",
              "          element.appendChild(docLink);\n",
              "        }\n",
              "      </script>\n",
              "    </div>\n",
              "  </div>\n",
              "  "
            ],
            "text/plain": [
              "              team  targeted_productivity  ...  no_of_workers  actual_productivity\n",
              "count  1197.000000            1197.000000  ...    1197.000000          1197.000000\n",
              "mean      6.426901               0.736842  ...      34.609858             0.737397\n",
              "std       3.463963               0.075515  ...      22.197687             0.168772\n",
              "min       1.000000               0.550000  ...       2.000000             0.350389\n",
              "25%       3.000000               0.700000  ...       9.000000             0.650307\n",
              "50%       6.000000               0.750000  ...      34.000000             0.773333\n",
              "75%       9.000000               0.800000  ...      57.000000             0.850253\n",
              "max      12.000000               0.800000  ...      89.000000             1.120437\n",
              "\n",
              "[8 rows x 10 columns]"
            ]
          },
          "metadata": {},
          "execution_count": 33
        }
      ]
    },
    {
      "cell_type": "code",
      "metadata": {
        "id": "5ZaHW1C7FhPU"
      },
      "source": [
        "# Specify columns that need to be scaled\n",
        "columns = [\"smv\", \"over_time\", \"incentive\", \"no_of_workers\"]"
      ],
      "execution_count": 34,
      "outputs": []
    },
    {
      "cell_type": "code",
      "metadata": {
        "id": "-8pgGe4yFhPU",
        "colab": {
          "base_uri": "https://localhost:8080/"
        },
        "outputId": "8396e8da-6612-4da0-c86d-89b7cf3d02de"
      },
      "source": [
        "print(\"Before Scaling :\")\n",
        "df5.show(5)\n",
        "df6 = df5\n",
        "\n",
        "from pyspark.ml.feature import MinMaxScaler, VectorAssembler\n",
        "from pyspark.ml import Pipeline\n",
        "from pyspark.sql.functions import udf, round\n",
        "from pyspark.sql.types import DoubleType\n",
        "\n",
        "# UDF for converting column type from vector to double type\n",
        "unlist = udf(lambda x: float(list(x)[0]), DoubleType())\n",
        "spark.udf.register(\"unlist\", unlist)\n",
        "\n",
        "# Iterating over columns to be scaled\n",
        "for i in columns:\n",
        "    # VectorAssembler Transformation - Converting column to vector type\n",
        "    assembler = VectorAssembler(inputCols=[i],outputCol=i+\"_Vect\")\n",
        "\n",
        "    # MinMaxScaler Transformation\n",
        "    scaler = MinMaxScaler(inputCol=i+\"_Vect\", outputCol=i+\"_Scaled\")\n",
        "\n",
        "    # Pipeline of VectorAssembler and MinMaxScaler\n",
        "    pipeline = Pipeline(stages=[assembler, scaler])\n",
        "\n",
        "    # Fitting pipeline on dataframe\n",
        "    df6 = pipeline.fit(df6).transform(df6).withColumn(i+\"_Scaled\", unlist(i+\"_Scaled\")).drop(i+\"_Vect\")\n",
        "\n",
        "print(\"After Scaling :\")\n",
        "df6.show(5)"
      ],
      "execution_count": 35,
      "outputs": [
        {
          "output_type": "stream",
          "name": "stdout",
          "text": [
            "Before Scaling :\n",
            "+-------------------+--------+----------+--------+----+---------------------+-----+---------+---------+---------+--------+------------------+-------------+-------------------+\n",
            "|               date| quarter|department|     day|team|targeted_productivity|  smv|over_time|incentive|idle_time|idle_men|no_of_style_change|no_of_workers|actual_productivity|\n",
            "+-------------------+--------+----------+--------+----+---------------------+-----+---------+---------+---------+--------+------------------+-------------+-------------------+\n",
            "|2015-01-01 00:00:00|Quarter1|    sewing|Thursday|   8|                  0.8|26.16|   7080.0|     98.0|      0.0|     0.0|               0.0|         59.0|        0.940725424|\n",
            "|2015-01-01 00:00:00|Quarter1| finishing|Thursday|   1|                 0.75| 3.94|    960.0|      0.0|      0.0|     0.0|               0.0|          8.0|             0.8865|\n",
            "|2015-01-01 00:00:00|Quarter1|    sewing|Thursday|  11|                  0.8|11.41|   3660.0|     50.0|      0.0|     0.0|               0.0|         30.5|        0.800570492|\n",
            "|2015-01-01 00:00:00|Quarter1|    sewing|Thursday|  12|                  0.8|11.41|   3660.0|     50.0|      0.0|     0.0|               0.0|         30.5|        0.800570492|\n",
            "|2015-01-01 00:00:00|Quarter1|    sewing|Thursday|   6|                  0.8| 25.9|   1920.0|     50.0|      0.0|     0.0|               0.0|         56.0|        0.800381944|\n",
            "+-------------------+--------+----------+--------+----+---------------------+-----+---------+---------+---------+--------+------------------+-------------+-------------------+\n",
            "only showing top 5 rows\n",
            "\n",
            "After Scaling :\n",
            "+-------------------+--------+----------+--------+----+---------------------+-----+---------+---------+---------+--------+------------------+-------------+-------------------+-------------------+-------------------+----------------+--------------------+\n",
            "|               date| quarter|department|     day|team|targeted_productivity|  smv|over_time|incentive|idle_time|idle_men|no_of_style_change|no_of_workers|actual_productivity|         smv_Scaled|   over_time_Scaled|incentive_Scaled|no_of_workers_Scaled|\n",
            "+-------------------+--------+----------+--------+----+---------------------+-----+---------+---------+---------+--------+------------------+-------------+-------------------+-------------------+-------------------+----------------+--------------------+\n",
            "|2015-01-01 00:00:00|Quarter1|    sewing|Thursday|   8|                  0.8|26.16|   7080.0|     98.0|      0.0|     0.0|               0.0|         59.0|        0.940725424| 0.4502516453735966| 0.4645669291338583|           0.784|  0.6551724137931034|\n",
            "|2015-01-01 00:00:00|Quarter1| finishing|Thursday|   1|                 0.75| 3.94|    960.0|      0.0|      0.0|     0.0|               0.0|          8.0|             0.8865|0.02013162988772745|0.06299212598425197|             0.0| 0.06896551724137931|\n",
            "|2015-01-01 00:00:00|Quarter1|    sewing|Thursday|  11|                  0.8|11.41|   3660.0|     50.0|      0.0|     0.0|               0.0|         30.5|        0.800570492|0.16473093302361594|0.24015748031496062|             0.4|  0.3275862068965517|\n",
            "|2015-01-01 00:00:00|Quarter1|    sewing|Thursday|  12|                  0.8|11.41|   3660.0|     50.0|      0.0|     0.0|               0.0|         30.5|        0.800570492|0.16473093302361594|0.24015748031496062|             0.4|  0.3275862068965517|\n",
            "|2015-01-01 00:00:00|Quarter1|    sewing|Thursday|   6|                  0.8| 25.9|   1920.0|     50.0|      0.0|     0.0|               0.0|         56.0|        0.800381944|0.44521873790166466|0.12598425196850394|             0.4|  0.6206896551724138|\n",
            "+-------------------+--------+----------+--------+----+---------------------+-----+---------+---------+---------+--------+------------------+-------------+-------------------+-------------------+-------------------+----------------+--------------------+\n",
            "only showing top 5 rows\n",
            "\n"
          ]
        }
      ]
    },
    {
      "cell_type": "markdown",
      "metadata": {
        "id": "XrNKGgMLFhPU"
      },
      "source": [
        "Let's create a new `id` column that will contain a unique value for each record."
      ]
    },
    {
      "cell_type": "code",
      "metadata": {
        "id": "Vws1d6rPFhPU",
        "colab": {
          "base_uri": "https://localhost:8080/"
        },
        "outputId": "3b0cd042-83a1-4687-9e1c-deb47b94a662"
      },
      "source": [
        "df7 = df6.withColumn(\"id\", monotonically_increasing_id()+1)\n",
        "df7.select('id').show(5)"
      ],
      "execution_count": 36,
      "outputs": [
        {
          "output_type": "stream",
          "name": "stdout",
          "text": [
            "+---+\n",
            "| id|\n",
            "+---+\n",
            "|  1|\n",
            "|  2|\n",
            "|  3|\n",
            "|  4|\n",
            "|  5|\n",
            "+---+\n",
            "only showing top 5 rows\n",
            "\n"
          ]
        }
      ]
    },
    {
      "cell_type": "markdown",
      "metadata": {
        "id": "AxtWPtpBFhPU"
      },
      "source": [
        "We can also perform SQL queries on spark dataframe using the `spark.sql()` function. But for that, we first need to register the dataframe as a table in the spark catalog. We can do this using the `createOrReplaceTempView()` spark dataframe method. It takes the name of the temporary table we'd like to register as argument. As this table is temporary, it can only be accessed from the specific SparkSession used to create the Spark dataframe. "
      ]
    },
    {
      "cell_type": "code",
      "metadata": {
        "id": "IQuN6nz5FhPV",
        "colab": {
          "base_uri": "https://localhost:8080/"
        },
        "outputId": "846a27ec-d5d6-4a06-e09d-16f002a93a8a"
      },
      "source": [
        "df7.createOrReplaceTempView('df_table')\n",
        "spark.sql(\"select date, department, team, smv, over_time, incentive from df_table where department='sewing'\").show(5)"
      ],
      "execution_count": 37,
      "outputs": [
        {
          "output_type": "stream",
          "name": "stdout",
          "text": [
            "+-------------------+----------+----+-----+---------+---------+\n",
            "|               date|department|team|  smv|over_time|incentive|\n",
            "+-------------------+----------+----+-----+---------+---------+\n",
            "|2015-01-01 00:00:00|    sewing|   8|26.16|   7080.0|     98.0|\n",
            "|2015-01-01 00:00:00|    sewing|  11|11.41|   3660.0|     50.0|\n",
            "|2015-01-01 00:00:00|    sewing|  12|11.41|   3660.0|     50.0|\n",
            "|2015-01-01 00:00:00|    sewing|   6| 25.9|   1920.0|     50.0|\n",
            "|2015-01-01 00:00:00|    sewing|   7| 25.9|   6720.0|     38.0|\n",
            "+-------------------+----------+----+-----+---------+---------+\n",
            "only showing top 5 rows\n",
            "\n"
          ]
        }
      ]
    },
    {
      "cell_type": "markdown",
      "metadata": {
        "id": "NuxGK5lMFhPV"
      },
      "source": [
        "#### Load Data"
      ]
    },
    {
      "cell_type": "markdown",
      "metadata": {
        "id": "WZa9WGtjFhPV"
      },
      "source": [
        "Once we have extracted and transformed our data, we might want to load it into the destination or store it somewhere. We will load it into the MongoDB database."
      ]
    },
    {
      "cell_type": "markdown",
      "metadata": {
        "id": "Cw_To9V-FhPW"
      },
      "source": [
        "Data in MongoDB is represented and stored using JSON-style documents. In PyMongo we use dictionaries to represent documents."
      ]
    },
    {
      "cell_type": "code",
      "metadata": {
        "id": "YQtw9vFnFhPW",
        "colab": {
          "base_uri": "https://localhost:8080/"
        },
        "outputId": "5de4a0ac-950e-41a5-b11e-960274301ad9"
      },
      "source": [
        "data = df7.toPandas()\n",
        "documents = []\n",
        "for i in range(len(data)):\n",
        "        doc = data.iloc[i,:].to_dict()\n",
        "        for keys in doc:\n",
        "          if keys != 'date':\n",
        "            if type(doc[keys]) not in [str]:\n",
        "                doc[keys] = float(doc[keys])\n",
        "        documents.append(doc)\n",
        "documents[0:1]"
      ],
      "execution_count": 38,
      "outputs": [
        {
          "output_type": "execute_result",
          "data": {
            "text/plain": [
              "[{'actual_productivity': 0.940725424,\n",
              "  'date': Timestamp('2015-01-01 00:00:00'),\n",
              "  'day': 'Thursday',\n",
              "  'department': 'sewing',\n",
              "  'id': 1.0,\n",
              "  'idle_men': 0.0,\n",
              "  'idle_time': 0.0,\n",
              "  'incentive': 98.0,\n",
              "  'incentive_Scaled': 0.784,\n",
              "  'no_of_style_change': 0.0,\n",
              "  'no_of_workers': 59.0,\n",
              "  'no_of_workers_Scaled': 0.6551724137931034,\n",
              "  'over_time': 7080.0,\n",
              "  'over_time_Scaled': 0.4645669291338583,\n",
              "  'quarter': 'Quarter1',\n",
              "  'smv': 26.16,\n",
              "  'smv_Scaled': 0.4502516453735966,\n",
              "  'targeted_productivity': 0.8,\n",
              "  'team': 8.0}]"
            ]
          },
          "metadata": {},
          "execution_count": 38
        }
      ]
    },
    {
      "cell_type": "markdown",
      "metadata": {
        "id": "gBdnqWBmFhPW"
      },
      "source": [
        "If you would like to perform the data insertion step then please **create your own account** on MongoDB Atlas as given in the reference [here](https://cdn.iisc.talentsprint.com/CDS/DB_Connect_Docs/Assignment_MongoDB_Connect.pdf) and change the credentials and run the below code by uncommenting it."
      ]
    },
    {
      "cell_type": "code",
      "metadata": {
        "id": "y4JC5Zg5FhPX"
      },
      "source": [
        "### new_document = coll.insert_many(documents)"
      ],
      "execution_count": 39,
      "outputs": []
    },
    {
      "cell_type": "markdown",
      "metadata": {
        "id": "ayplTl--FhPX"
      },
      "source": [
        "Also, we can store the data in other formats like json, csv, and parquet and read it back whenever required.\n",
        "\n",
        "**Store the dataframe as a `json file`**"
      ]
    },
    {
      "cell_type": "code",
      "metadata": {
        "id": "jGbjYqmDFhPX"
      },
      "source": [
        "df7.write.format(\"json\").mode(\"overwrite\").save('transformed_json_data.json')"
      ],
      "execution_count": 40,
      "outputs": []
    },
    {
      "cell_type": "markdown",
      "metadata": {
        "id": "9hzX8LdjFhPX"
      },
      "source": [
        "**Read data from `json` to spark dataframe**"
      ]
    },
    {
      "cell_type": "code",
      "metadata": {
        "id": "p2--YPdhFhPY"
      },
      "source": [
        "df_json = spark.read.format(\"json\").load('transformed_json_data.json')"
      ],
      "execution_count": 41,
      "outputs": []
    },
    {
      "cell_type": "code",
      "metadata": {
        "id": "HJVFRRoQFhPY",
        "colab": {
          "base_uri": "https://localhost:8080/"
        },
        "outputId": "a19395a1-f1b0-4812-8dcc-bc846a7dea9e"
      },
      "source": [
        "df_json.show(5)"
      ],
      "execution_count": 42,
      "outputs": [
        {
          "output_type": "stream",
          "name": "stdout",
          "text": [
            "+-------------------+--------------------+---------+----------+----------+--------+---------+---------+----------------+------------------+-------------+--------------------+---------+-------------------+--------+-----+-------------------+---------------------+----+\n",
            "|actual_productivity|                date|      day|department|        id|idle_men|idle_time|incentive|incentive_Scaled|no_of_style_change|no_of_workers|no_of_workers_Scaled|over_time|   over_time_Scaled| quarter|  smv|         smv_Scaled|targeted_productivity|team|\n",
            "+-------------------+--------------------+---------+----------+----------+--------+---------+---------+----------------+------------------+-------------+--------------------+---------+-------------------+--------+-----+-------------------+---------------------+----+\n",
            "|        0.415172414|2015-02-03T00:00:...|  Tuesday|    sewing|8589934593|     0.0|      0.0|      0.0|             0.0|               0.0|         58.0|  0.6436781609195402|   6960.0|0.45669291338582674|Quarter1| 30.1| 0.5265195509097949|                  0.6|   5|\n",
            "|         1.05028058|2015-02-04T00:00:...|Wednesday|    sewing|8589934594|     0.0|      0.0|    100.0|             0.8|               0.0|         57.5|  0.6379310344827586|   6900.0|  0.452755905511811|Quarter1|22.52| 0.3797909407665505|                  0.8|   2|\n",
            "|        1.000230409|2015-02-04T00:00:...|Wednesday|    sewing|8589934595|     0.0|      0.0|    113.0|           0.904|               0.0|         57.0|   0.632183908045977|   6840.0|0.44881889763779526|Quarter1|22.52| 0.3797909407665505|                  0.8|   3|\n",
            "|        0.999995238|2015-02-04T00:00:...|Wednesday|    sewing|8589934596|     0.0|      0.0|    113.0|           0.904|               0.0|         56.0|  0.6206896551724138|   6720.0| 0.4409448818897638|Quarter1|22.52| 0.3797909407665505|                  0.8|  10|\n",
            "|        0.966759259|2015-02-04T00:00:...|Wednesday| finishing|8589934597|     0.0|      0.0|      0.0|             0.0|               0.0|         18.0|  0.1839080459770115|   2160.0|0.14173228346456693|Quarter1| 3.94|0.02013162988772745|                  0.8|   2|\n",
            "+-------------------+--------------------+---------+----------+----------+--------+---------+---------+----------------+------------------+-------------+--------------------+---------+-------------------+--------+-----+-------------------+---------------------+----+\n",
            "only showing top 5 rows\n",
            "\n"
          ]
        }
      ]
    },
    {
      "cell_type": "markdown",
      "metadata": {
        "id": "3_5wx0aWFhPY"
      },
      "source": [
        "**Store the dataframe as a `csv file`**"
      ]
    },
    {
      "cell_type": "code",
      "metadata": {
        "id": "mpABXzByFhPY"
      },
      "source": [
        "df7.write.format(\"csv\").mode(\"overwrite\").option(\"header\", \"true\").save(\"transformed_csv_data.csv\")"
      ],
      "execution_count": 43,
      "outputs": []
    },
    {
      "cell_type": "markdown",
      "metadata": {
        "id": "7mO6h-HpFhPY"
      },
      "source": [
        "**Read data from `csv` to spark dataframe**"
      ]
    },
    {
      "cell_type": "code",
      "metadata": {
        "id": "-oDKXltXFhPY"
      },
      "source": [
        "df_csv = spark.read.format(\"csv\").option(\"header\", \"true\").load('transformed_csv_data.csv')"
      ],
      "execution_count": 44,
      "outputs": []
    },
    {
      "cell_type": "code",
      "metadata": {
        "id": "sW53Urb8FhPY",
        "colab": {
          "base_uri": "https://localhost:8080/"
        },
        "outputId": "6ceee588-2fa5-401b-e055-e63227043439"
      },
      "source": [
        "df_csv.show(5)"
      ],
      "execution_count": 45,
      "outputs": [
        {
          "output_type": "stream",
          "name": "stdout",
          "text": [
            "+--------------------+--------+----------+---------+----+---------------------+-----+---------+---------+---------+--------+------------------+-------------+-------------------+-------------------+-------------------+----------------+--------------------+----------+\n",
            "|                date| quarter|department|      day|team|targeted_productivity|  smv|over_time|incentive|idle_time|idle_men|no_of_style_change|no_of_workers|actual_productivity|         smv_Scaled|   over_time_Scaled|incentive_Scaled|no_of_workers_Scaled|        id|\n",
            "+--------------------+--------+----------+---------+----+---------------------+-----+---------+---------+---------+--------+------------------+-------------+-------------------+-------------------+-------------------+----------------+--------------------+----------+\n",
            "|2015-02-03T00:00:...|Quarter1|    sewing|  Tuesday|   5|                  0.6| 30.1|   6960.0|      0.0|      0.0|     0.0|               0.0|         58.0|        0.415172414| 0.5265195509097949|0.45669291338582674|             0.0|  0.6436781609195402|8589934593|\n",
            "|2015-02-04T00:00:...|Quarter1|    sewing|Wednesday|   2|                  0.8|22.52|   6900.0|    100.0|      0.0|     0.0|               0.0|         57.5|         1.05028058| 0.3797909407665505|  0.452755905511811|             0.8|  0.6379310344827586|8589934594|\n",
            "|2015-02-04T00:00:...|Quarter1|    sewing|Wednesday|   3|                  0.8|22.52|   6840.0|    113.0|      0.0|     0.0|               0.0|         57.0|        1.000230409| 0.3797909407665505|0.44881889763779526|           0.904|   0.632183908045977|8589934595|\n",
            "|2015-02-04T00:00:...|Quarter1|    sewing|Wednesday|  10|                  0.8|22.52|   6720.0|    113.0|      0.0|     0.0|               0.0|         56.0|        0.999995238| 0.3797909407665505| 0.4409448818897638|           0.904|  0.6206896551724138|8589934596|\n",
            "|2015-02-04T00:00:...|Quarter1| finishing|Wednesday|   2|                  0.8| 3.94|   2160.0|      0.0|      0.0|     0.0|               0.0|         18.0|        0.966759259|0.02013162988772745|0.14173228346456693|             0.0|  0.1839080459770115|8589934597|\n",
            "+--------------------+--------+----------+---------+----+---------------------+-----+---------+---------+---------+--------+------------------+-------------+-------------------+-------------------+-------------------+----------------+--------------------+----------+\n",
            "only showing top 5 rows\n",
            "\n"
          ]
        }
      ]
    },
    {
      "cell_type": "markdown",
      "metadata": {
        "id": "is1lmuQuFhPY"
      },
      "source": [
        "**Use Parquet files to store data**"
      ]
    },
    {
      "cell_type": "markdown",
      "metadata": {
        "id": "3NfAZB2cFhPZ"
      },
      "source": [
        "Parquet uses snappy compression to compress the data. If the DataFrame is written as Parquet, the schema is preserved as part of the Parquet metadata.\n",
        "\n",
        "To know more about parquet file format click [here](https://www.ellicium.com/parquet-file-format-structure/)."
      ]
    },
    {
      "cell_type": "code",
      "metadata": {
        "id": "vQ-u4QOMFhPZ"
      },
      "source": [
        "df7.write.format(\"parquet\").mode(\"overwrite\").save(\"transformed_parquet_data\")"
      ],
      "execution_count": 46,
      "outputs": []
    },
    {
      "cell_type": "markdown",
      "metadata": {
        "id": "hSnBkk5KFhPZ"
      },
      "source": [
        "**Read data from Parquet file**\n",
        "\n",
        "We don't have to specify the schema here since it's stored as part of the Parquet metadata."
      ]
    },
    {
      "cell_type": "code",
      "metadata": {
        "id": "lqsho9lhFhPZ"
      },
      "source": [
        "df_parquet = spark.read.format(\"parquet\").load(\"transformed_parquet_data\")"
      ],
      "execution_count": 47,
      "outputs": []
    },
    {
      "cell_type": "code",
      "metadata": {
        "id": "m1MQ19ypFhPZ",
        "colab": {
          "base_uri": "https://localhost:8080/"
        },
        "outputId": "638b55c1-02ca-4e78-a234-fddd272fb099"
      },
      "source": [
        "df_parquet.show(5)"
      ],
      "execution_count": 48,
      "outputs": [
        {
          "output_type": "stream",
          "name": "stdout",
          "text": [
            "+-------------------+--------+----------+--------+----+---------------------+-----+---------+---------+---------+--------+------------------+-------------+-------------------+-------------------+-------------------+----------------+--------------------+---+\n",
            "|               date| quarter|department|     day|team|targeted_productivity|  smv|over_time|incentive|idle_time|idle_men|no_of_style_change|no_of_workers|actual_productivity|         smv_Scaled|   over_time_Scaled|incentive_Scaled|no_of_workers_Scaled| id|\n",
            "+-------------------+--------+----------+--------+----+---------------------+-----+---------+---------+---------+--------+------------------+-------------+-------------------+-------------------+-------------------+----------------+--------------------+---+\n",
            "|2015-01-01 00:00:00|Quarter1|    sewing|Thursday|   8|                  0.8|26.16|   7080.0|     98.0|      0.0|     0.0|               0.0|         59.0|        0.940725424| 0.4502516453735966| 0.4645669291338583|           0.784|  0.6551724137931034|  1|\n",
            "|2015-01-01 00:00:00|Quarter1| finishing|Thursday|   1|                 0.75| 3.94|    960.0|      0.0|      0.0|     0.0|               0.0|          8.0|             0.8865|0.02013162988772745|0.06299212598425197|             0.0| 0.06896551724137931|  2|\n",
            "|2015-01-01 00:00:00|Quarter1|    sewing|Thursday|  11|                  0.8|11.41|   3660.0|     50.0|      0.0|     0.0|               0.0|         30.5|        0.800570492|0.16473093302361594|0.24015748031496062|             0.4|  0.3275862068965517|  3|\n",
            "|2015-01-01 00:00:00|Quarter1|    sewing|Thursday|  12|                  0.8|11.41|   3660.0|     50.0|      0.0|     0.0|               0.0|         30.5|        0.800570492|0.16473093302361594|0.24015748031496062|             0.4|  0.3275862068965517|  4|\n",
            "|2015-01-01 00:00:00|Quarter1|    sewing|Thursday|   6|                  0.8| 25.9|   1920.0|     50.0|      0.0|     0.0|               0.0|         56.0|        0.800381944|0.44521873790166466|0.12598425196850394|             0.4|  0.6206896551724138|  5|\n",
            "+-------------------+--------+----------+--------+----+---------------------+-----+---------+---------+---------+--------+------------------+-------------+-------------------+-------------------+-------------------+----------------+--------------------+---+\n",
            "only showing top 5 rows\n",
            "\n"
          ]
        }
      ]
    },
    {
      "cell_type": "code",
      "source": [
        "df7.columns"
      ],
      "metadata": {
        "colab": {
          "base_uri": "https://localhost:8080/"
        },
        "id": "BEtwjN-ncl2l",
        "outputId": "099e8770-6677-431b-e5e9-97c6e67418de"
      },
      "execution_count": 49,
      "outputs": [
        {
          "output_type": "execute_result",
          "data": {
            "text/plain": [
              "['date',\n",
              " 'quarter',\n",
              " 'department',\n",
              " 'day',\n",
              " 'team',\n",
              " 'targeted_productivity',\n",
              " 'smv',\n",
              " 'over_time',\n",
              " 'incentive',\n",
              " 'idle_time',\n",
              " 'idle_men',\n",
              " 'no_of_style_change',\n",
              " 'no_of_workers',\n",
              " 'actual_productivity',\n",
              " 'smv_Scaled',\n",
              " 'over_time_Scaled',\n",
              " 'incentive_Scaled',\n",
              " 'no_of_workers_Scaled',\n",
              " 'id']"
            ]
          },
          "metadata": {},
          "execution_count": 49
        }
      ]
    },
    {
      "cell_type": "code",
      "source": [
        "df7.orderBy('incentive_Scaled',ascending = False).limit(10).toPandas()[['team']]"
      ],
      "metadata": {
        "colab": {
          "base_uri": "https://localhost:8080/",
          "height": 363
        },
        "id": "bQCzXUptcaCG",
        "outputId": "6656550d-40ce-43ce-ef3c-12130cb090a0"
      },
      "execution_count": 50,
      "outputs": [
        {
          "output_type": "execute_result",
          "data": {
            "text/html": [
              "\n",
              "  <div id=\"df-f4123283-399f-4c3c-b085-197d1320eee2\">\n",
              "    <div class=\"colab-df-container\">\n",
              "      <div>\n",
              "<style scoped>\n",
              "    .dataframe tbody tr th:only-of-type {\n",
              "        vertical-align: middle;\n",
              "    }\n",
              "\n",
              "    .dataframe tbody tr th {\n",
              "        vertical-align: top;\n",
              "    }\n",
              "\n",
              "    .dataframe thead th {\n",
              "        text-align: right;\n",
              "    }\n",
              "</style>\n",
              "<table border=\"1\" class=\"dataframe\">\n",
              "  <thead>\n",
              "    <tr style=\"text-align: right;\">\n",
              "      <th></th>\n",
              "      <th>team</th>\n",
              "    </tr>\n",
              "  </thead>\n",
              "  <tbody>\n",
              "    <tr>\n",
              "      <th>0</th>\n",
              "      <td>5</td>\n",
              "    </tr>\n",
              "    <tr>\n",
              "      <th>1</th>\n",
              "      <td>1</td>\n",
              "    </tr>\n",
              "    <tr>\n",
              "      <th>2</th>\n",
              "      <td>11</td>\n",
              "    </tr>\n",
              "    <tr>\n",
              "      <th>3</th>\n",
              "      <td>12</td>\n",
              "    </tr>\n",
              "    <tr>\n",
              "      <th>4</th>\n",
              "      <td>9</td>\n",
              "    </tr>\n",
              "    <tr>\n",
              "      <th>5</th>\n",
              "      <td>3</td>\n",
              "    </tr>\n",
              "    <tr>\n",
              "      <th>6</th>\n",
              "      <td>4</td>\n",
              "    </tr>\n",
              "    <tr>\n",
              "      <th>7</th>\n",
              "      <td>1</td>\n",
              "    </tr>\n",
              "    <tr>\n",
              "      <th>8</th>\n",
              "      <td>2</td>\n",
              "    </tr>\n",
              "    <tr>\n",
              "      <th>9</th>\n",
              "      <td>10</td>\n",
              "    </tr>\n",
              "  </tbody>\n",
              "</table>\n",
              "</div>\n",
              "      <button class=\"colab-df-convert\" onclick=\"convertToInteractive('df-f4123283-399f-4c3c-b085-197d1320eee2')\"\n",
              "              title=\"Convert this dataframe to an interactive table.\"\n",
              "              style=\"display:none;\">\n",
              "        \n",
              "  <svg xmlns=\"http://www.w3.org/2000/svg\" height=\"24px\"viewBox=\"0 0 24 24\"\n",
              "       width=\"24px\">\n",
              "    <path d=\"M0 0h24v24H0V0z\" fill=\"none\"/>\n",
              "    <path d=\"M18.56 5.44l.94 2.06.94-2.06 2.06-.94-2.06-.94-.94-2.06-.94 2.06-2.06.94zm-11 1L8.5 8.5l.94-2.06 2.06-.94-2.06-.94L8.5 2.5l-.94 2.06-2.06.94zm10 10l.94 2.06.94-2.06 2.06-.94-2.06-.94-.94-2.06-.94 2.06-2.06.94z\"/><path d=\"M17.41 7.96l-1.37-1.37c-.4-.4-.92-.59-1.43-.59-.52 0-1.04.2-1.43.59L10.3 9.45l-7.72 7.72c-.78.78-.78 2.05 0 2.83L4 21.41c.39.39.9.59 1.41.59.51 0 1.02-.2 1.41-.59l7.78-7.78 2.81-2.81c.8-.78.8-2.07 0-2.86zM5.41 20L4 18.59l7.72-7.72 1.47 1.35L5.41 20z\"/>\n",
              "  </svg>\n",
              "      </button>\n",
              "      \n",
              "  <style>\n",
              "    .colab-df-container {\n",
              "      display:flex;\n",
              "      flex-wrap:wrap;\n",
              "      gap: 12px;\n",
              "    }\n",
              "\n",
              "    .colab-df-convert {\n",
              "      background-color: #E8F0FE;\n",
              "      border: none;\n",
              "      border-radius: 50%;\n",
              "      cursor: pointer;\n",
              "      display: none;\n",
              "      fill: #1967D2;\n",
              "      height: 32px;\n",
              "      padding: 0 0 0 0;\n",
              "      width: 32px;\n",
              "    }\n",
              "\n",
              "    .colab-df-convert:hover {\n",
              "      background-color: #E2EBFA;\n",
              "      box-shadow: 0px 1px 2px rgba(60, 64, 67, 0.3), 0px 1px 3px 1px rgba(60, 64, 67, 0.15);\n",
              "      fill: #174EA6;\n",
              "    }\n",
              "\n",
              "    [theme=dark] .colab-df-convert {\n",
              "      background-color: #3B4455;\n",
              "      fill: #D2E3FC;\n",
              "    }\n",
              "\n",
              "    [theme=dark] .colab-df-convert:hover {\n",
              "      background-color: #434B5C;\n",
              "      box-shadow: 0px 1px 3px 1px rgba(0, 0, 0, 0.15);\n",
              "      filter: drop-shadow(0px 1px 2px rgba(0, 0, 0, 0.3));\n",
              "      fill: #FFFFFF;\n",
              "    }\n",
              "  </style>\n",
              "\n",
              "      <script>\n",
              "        const buttonEl =\n",
              "          document.querySelector('#df-f4123283-399f-4c3c-b085-197d1320eee2 button.colab-df-convert');\n",
              "        buttonEl.style.display =\n",
              "          google.colab.kernel.accessAllowed ? 'block' : 'none';\n",
              "\n",
              "        async function convertToInteractive(key) {\n",
              "          const element = document.querySelector('#df-f4123283-399f-4c3c-b085-197d1320eee2');\n",
              "          const dataTable =\n",
              "            await google.colab.kernel.invokeFunction('convertToInteractive',\n",
              "                                                     [key], {});\n",
              "          if (!dataTable) return;\n",
              "\n",
              "          const docLinkHtml = 'Like what you see? Visit the ' +\n",
              "            '<a target=\"_blank\" href=https://colab.research.google.com/notebooks/data_table.ipynb>data table notebook</a>'\n",
              "            + ' to learn more about interactive tables.';\n",
              "          element.innerHTML = '';\n",
              "          dataTable['output_type'] = 'display_data';\n",
              "          await google.colab.output.renderOutput(dataTable, element);\n",
              "          const docLink = document.createElement('div');\n",
              "          docLink.innerHTML = docLinkHtml;\n",
              "          element.appendChild(docLink);\n",
              "        }\n",
              "      </script>\n",
              "    </div>\n",
              "  </div>\n",
              "  "
            ],
            "text/plain": [
              "   team\n",
              "0     5\n",
              "1     1\n",
              "2    11\n",
              "3    12\n",
              "4     9\n",
              "5     3\n",
              "6     4\n",
              "7     1\n",
              "8     2\n",
              "9    10"
            ]
          },
          "metadata": {},
          "execution_count": 50
        }
      ]
    },
    {
      "cell_type": "code",
      "source": [
        "df7.filter(col(\"day\") == 'Monday').groupBy(\"team\").agg(avg(\"incentive_Scaled\").alias(\"avg_inc\")).orderBy(\"avg_inc\", ascending=True).show()"
      ],
      "metadata": {
        "colab": {
          "base_uri": "https://localhost:8080/"
        },
        "id": "y5Je2W_oMh7u",
        "outputId": "99ea072b-f5d7-4874-b3db-2f2cf64c7a37"
      },
      "execution_count": 57,
      "outputs": [
        {
          "output_type": "stream",
          "name": "stdout",
          "text": [
            "+----+-------------------+\n",
            "|team|            avg_inc|\n",
            "+----+-------------------+\n",
            "|   7|0.11466666666666668|\n",
            "|   6| 0.1834666666666667|\n",
            "|   5|              0.187|\n",
            "|   8|0.19288888888888892|\n",
            "|   4| 0.2471111111111111|\n",
            "|  10| 0.2528888888888889|\n",
            "|   9| 0.2581052631578947|\n",
            "|   3| 0.2832941176470588|\n",
            "|  12| 0.2848888888888889|\n",
            "|   2|0.29279999999999995|\n",
            "|  11|0.30114285714285716|\n",
            "|   1|             0.3895|\n",
            "+----+-------------------+\n",
            "\n"
          ]
        }
      ]
    },
    {
      "cell_type": "markdown",
      "metadata": {
        "id": "VHfHdGCP_n6Y"
      },
      "source": [
        "### Please answer the questions below to complete the experiment:\n",
        "\n",
        "\n"
      ]
    },
    {
      "cell_type": "code",
      "metadata": {
        "id": "VgSwVENIPcM6"
      },
      "source": [
        "# @title Considering the scaled Spark dataframe (df7), which of the following teams has received the highest average incentive among those who worked on Monday? { run: \"auto\", form-width: \"500px\", display-mode: \"form\" }\n",
        "Answer = \"1\" #@param [\"\",\"1\",\"6\",\"11\"]"
      ],
      "execution_count": 58,
      "outputs": []
    },
    {
      "cell_type": "code",
      "metadata": {
        "id": "NMzKSbLIgFzQ"
      },
      "source": [
        "#@title How was the experiment? { run: \"auto\", form-width: \"500px\", display-mode: \"form\" }\n",
        "Complexity = \"Good and Challenging for me\" #@param [\"\",\"Too Simple, I am wasting time\", \"Good, But Not Challenging for me\", \"Good and Challenging for me\", \"Was Tough, but I did it\", \"Too Difficult for me\"]\n"
      ],
      "execution_count": 59,
      "outputs": []
    },
    {
      "cell_type": "code",
      "metadata": {
        "id": "DjcH1VWSFI2l"
      },
      "source": [
        "#@title If it was too easy, what more would you have liked to be added? If it was very difficult, what would you have liked to have been removed? { run: \"auto\", display-mode: \"form\" }\n",
        "Additional = \"na\" #@param {type:\"string\"}\n"
      ],
      "execution_count": 60,
      "outputs": []
    },
    {
      "cell_type": "code",
      "metadata": {
        "id": "4VBk_4VTAxCM"
      },
      "source": [
        "#@title Can you identify the concepts from the lecture which this experiment covered? { run: \"auto\", vertical-output: true, display-mode: \"form\" }\n",
        "Concepts = \"Yes\" #@param [\"\",\"Yes\", \"No\"]\n"
      ],
      "execution_count": 61,
      "outputs": []
    },
    {
      "cell_type": "code",
      "metadata": {
        "id": "XH91cL1JWH7m"
      },
      "source": [
        "#@title  Text and image description/explanation and code comments within the experiment: { run: \"auto\", vertical-output: true, display-mode: \"form\" }\n",
        "Comments = \"Very Useful\" #@param [\"\",\"Very Useful\", \"Somewhat Useful\", \"Not Useful\", \"Didn't use\"]\n"
      ],
      "execution_count": 62,
      "outputs": []
    },
    {
      "cell_type": "code",
      "metadata": {
        "id": "z8xLqj7VWIKW"
      },
      "source": [
        "#@title Mentor Support: { run: \"auto\", vertical-output: true, display-mode: \"form\" }\n",
        "Mentor_support = \"Very Useful\" #@param [\"\",\"Very Useful\", \"Somewhat Useful\", \"Not Useful\", \"Didn't use\"]\n"
      ],
      "execution_count": 63,
      "outputs": []
    },
    {
      "cell_type": "code",
      "metadata": {
        "id": "FzAZHt1zw-Y-",
        "cellView": "form",
        "colab": {
          "base_uri": "https://localhost:8080/"
        },
        "outputId": "64a2c1ed-6520-4b9c-eead-7c2506c805c0"
      },
      "source": [
        "#@title Run this cell to submit your notebook for grading { vertical-output: true }\n",
        "try:\n",
        "  if submission_id:\n",
        "      return_id = submit_notebook()\n",
        "      if return_id : submission_id = return_id\n",
        "  else:\n",
        "      print(\"Please complete the setup first.\")\n",
        "except NameError:\n",
        "  print (\"Please complete the setup first.\")"
      ],
      "execution_count": 64,
      "outputs": [
        {
          "output_type": "stream",
          "name": "stdout",
          "text": [
            "Your submission is successful.\n",
            "Ref Id: 6741\n",
            "Date of submission:  01 Feb 2022\n",
            "Time of submission:  17:53:38\n",
            "View your submissions: https://cds.iisc.talentsprint.com/notebook_submissions\n"
          ]
        }
      ]
    },
    {
      "cell_type": "code",
      "source": [
        ""
      ],
      "metadata": {
        "id": "9jlDid5D1BNT"
      },
      "execution_count": null,
      "outputs": []
    }
  ]
}