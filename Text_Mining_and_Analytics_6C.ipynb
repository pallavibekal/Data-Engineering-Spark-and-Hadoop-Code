{
  "nbformat": 4,
  "nbformat_minor": 0,
  "metadata": {
    "kernelspec": {
      "display_name": "Python 3",
      "language": "python",
      "name": "python3"
    },
    "language_info": {
      "codemirror_mode": {
        "name": "ipython",
        "version": 3
      },
      "file_extension": ".py",
      "mimetype": "text/x-python",
      "name": "python",
      "nbconvert_exporter": "python",
      "pygments_lexer": "ipython3",
      "version": "3.8.5"
    },
    "colab": {
      "name": "Text_Mining_and_Analytics_6C.ipynb",
      "provenance": [],
      "collapsed_sections": [],
      "include_colab_link": true
    }
  },
  "cells": [
    {
      "cell_type": "markdown",
      "metadata": {
        "id": "view-in-github",
        "colab_type": "text"
      },
      "source": [
        "<a href=\"https://colab.research.google.com/github/pallavibekal/Data-Engineering-Spark-and-Hadoop-Code/blob/main/Text_Mining_and_Analytics_6C.ipynb\" target=\"_parent\"><img src=\"https://colab.research.google.com/assets/colab-badge.svg\" alt=\"Open In Colab\"/></a>"
      ]
    },
    {
      "cell_type": "markdown",
      "metadata": {
        "id": "J93wmCVyJ1uW"
      },
      "source": [
        "## Information"
      ]
    },
    {
      "cell_type": "markdown",
      "metadata": {
        "id": "MyHY_53qJ1uX"
      },
      "source": [
        "The basic terminology related to text analytics are\n",
        "\n",
        "* **Text**: a sequence of words and punctuation\n",
        "* **Corpus**: a large body of text\n",
        "* **Frequency distribution**: the frequency of words in a text object\n",
        "* **Collocation**: a sequence of words that occur together unusually often\n",
        "* **Bigrams**: word pairs. High frequent bigrams are collocations\n",
        "* **Text normalization**: the process of transforming text into a single canonical form, e.g., converting text to lowercase, removing punctuations and stop words."
      ]
    },
    {
      "cell_type": "markdown",
      "metadata": {
        "id": "UexUWZb2J1uX"
      },
      "source": [
        "### Introduction"
      ]
    },
    {
      "cell_type": "markdown",
      "metadata": {
        "id": "F2dNzmmEJ1uX"
      },
      "source": [
        "Text analytics is the process of deriving information from text. It usually involves information retrieval, lexical analysis to study word frequency distributions, pattern recognition, tagging, information extraction, visualization, and predictive analytics. The overarching goal is, essentially, to turn text into data for analysis, via application of natural language processing (NLP), different types of algorithms and analytical methods.\n",
        "\n",
        "Here we will consider `milton-paradise.txt` text file from Gutenberg corpus to do text mining and analytics. Starting from data extraction, we will perform various transformations on text including tokenization, the number of words counting, POS tagging, chunking and then store it in different file formats."
      ]
    },
    {
      "cell_type": "markdown",
      "metadata": {
        "id": "BNLA8HiKxQhc"
      },
      "source": [
        "### Setup Steps:"
      ]
    },
    {
      "cell_type": "code",
      "metadata": {
        "id": "2YzfoPvJDiTX"
      },
      "source": [
        "#@title Please enter your registration id to start: { run: \"auto\", display-mode: \"form\" }\n",
        "Id = \"2200092\" #@param {type:\"string\"}"
      ],
      "execution_count": 8,
      "outputs": []
    },
    {
      "cell_type": "code",
      "metadata": {
        "id": "AjoZJWGErxGf"
      },
      "source": [
        "#@title Please enter your password (your registered phone number) to continue: { run: \"auto\", display-mode: \"form\" }\n",
        "password = \"9686800288\" #@param {type:\"string\"}"
      ],
      "execution_count": 9,
      "outputs": []
    },
    {
      "cell_type": "code",
      "metadata": {
        "id": "WBPPuGmBlDIN",
        "cellView": "form",
        "colab": {
          "base_uri": "https://localhost:8080/",
          "height": 34
        },
        "outputId": "716b7250-bd19-4188-a0f1-b693eebf226f"
      },
      "source": [
        "#@title Run this cell to complete the setup for this Notebook\n",
        "from IPython import get_ipython\n",
        "\n",
        "ipython = get_ipython()\n",
        "  \n",
        "notebook= \"M5_AST_06_Text_Mining_and_Analytics_C\" #name of the notebook\n",
        "\n",
        "def setup():\n",
        "#  ipython.magic(\"sx pip3 install torch\")\n",
        "    from IPython.display import HTML, display\n",
        "    display(HTML('<script src=\"https://dashboard.talentsprint.com/aiml/record_ip.html?traineeId={0}&recordId={1}\"></script>'.format(getId(),submission_id)))\n",
        "    print(\"Setup completed successfully\")\n",
        "    return\n",
        "\n",
        "def submit_notebook():\n",
        "    ipython.magic(\"notebook -e \"+ notebook + \".ipynb\")\n",
        "    \n",
        "    import requests, json, base64, datetime\n",
        "\n",
        "    url = \"https://dashboard.talentsprint.com/xp/app/save_notebook_attempts\"\n",
        "    if not submission_id:\n",
        "      data = {\"id\" : getId(), \"notebook\" : notebook, \"mobile\" : getPassword()}\n",
        "      r = requests.post(url, data = data)\n",
        "      r = json.loads(r.text)\n",
        "\n",
        "      if r[\"status\"] == \"Success\":\n",
        "          return r[\"record_id\"]\n",
        "      elif \"err\" in r:        \n",
        "        print(r[\"err\"])\n",
        "        return None        \n",
        "      else:\n",
        "        print (\"Something is wrong, the notebook will not be submitted for grading\")\n",
        "        return None\n",
        "    \n",
        "    elif getAnswer() and getComplexity() and getAdditional() and getConcepts() and getComments() and getMentorSupport():\n",
        "      f = open(notebook + \".ipynb\", \"rb\")\n",
        "      file_hash = base64.b64encode(f.read())\n",
        "\n",
        "      data = {\"complexity\" : Complexity, \"additional\" :Additional, \n",
        "              \"concepts\" : Concepts, \"record_id\" : submission_id, \n",
        "              \"answer\" : Answer, \"id\" : Id, \"file_hash\" : file_hash,\n",
        "              \"notebook\" : notebook,\n",
        "              \"feedback_experiments_input\" : Comments,\n",
        "              \"feedback_mentor_support\": Mentor_support}\n",
        "      r = requests.post(url, data = data)\n",
        "      r = json.loads(r.text)\n",
        "      if \"err\" in r:        \n",
        "        print(r[\"err\"])\n",
        "        return None   \n",
        "      else:\n",
        "        print(\"Your submission is successful.\")\n",
        "        print(\"Ref Id:\", submission_id)\n",
        "        print(\"Date of submission: \", r[\"date\"])\n",
        "        print(\"Time of submission: \", r[\"time\"])\n",
        "        print(\"View your submissions: https://cds.iisc.talentsprint.com/notebook_submissions\")\n",
        "        #print(\"For any queries/discrepancies, please connect with mentors through the chat icon in LMS dashboard.\")\n",
        "        return submission_id\n",
        "    else: submission_id\n",
        "    \n",
        "\n",
        "def getAdditional():\n",
        "  try:\n",
        "    if not Additional: \n",
        "      raise NameError\n",
        "    else:\n",
        "      return Additional  \n",
        "  except NameError:\n",
        "    print (\"Please answer Additional Question\")\n",
        "    return None\n",
        "\n",
        "def getComplexity():\n",
        "  try:\n",
        "    if not Complexity:\n",
        "      raise NameError\n",
        "    else:\n",
        "      return Complexity\n",
        "  except NameError:\n",
        "    print (\"Please answer Complexity Question\")\n",
        "    return None\n",
        "  \n",
        "def getConcepts():\n",
        "  try:\n",
        "    if not Concepts:\n",
        "      raise NameError\n",
        "    else:\n",
        "      return Concepts\n",
        "  except NameError:\n",
        "    print (\"Please answer Concepts Question\")\n",
        "    return None\n",
        "  \n",
        "  \n",
        "# def getWalkthrough():\n",
        "#   try:\n",
        "#     if not Walkthrough:\n",
        "#       raise NameError\n",
        "#     else:\n",
        "#       return Walkthrough\n",
        "#   except NameError:\n",
        "#     print (\"Please answer Walkthrough Question\")\n",
        "#     return None\n",
        "  \n",
        "def getComments():\n",
        "  try:\n",
        "    if not Comments:\n",
        "      raise NameError\n",
        "    else:\n",
        "      return Comments\n",
        "  except NameError:\n",
        "    print (\"Please answer Comments Question\")\n",
        "    return None\n",
        "  \n",
        "\n",
        "def getMentorSupport():\n",
        "  try:\n",
        "    if not Mentor_support:\n",
        "      raise NameError\n",
        "    else:\n",
        "      return Mentor_support\n",
        "  except NameError:\n",
        "    print (\"Please answer Mentor support Question\")\n",
        "    return None\n",
        "\n",
        "def getAnswer():\n",
        "  try:\n",
        "    if not Answer:\n",
        "      raise NameError \n",
        "    else: \n",
        "      return Answer\n",
        "  except NameError:\n",
        "    print (\"Please answer Question\")\n",
        "    return None\n",
        "  \n",
        "\n",
        "def getId():\n",
        "  try: \n",
        "    return Id if Id else None\n",
        "  except NameError:\n",
        "    return None\n",
        "\n",
        "def getPassword():\n",
        "  try:\n",
        "    return password if password else None\n",
        "  except NameError:\n",
        "    return None\n",
        "\n",
        "submission_id = None\n",
        "### Setup \n",
        "if getPassword() and getId():\n",
        "  submission_id = submit_notebook()\n",
        "  if submission_id:\n",
        "    setup() \n",
        "else:\n",
        "  print (\"Please complete Id and Password cells before running setup\")\n",
        "\n"
      ],
      "execution_count": 10,
      "outputs": [
        {
          "output_type": "display_data",
          "data": {
            "text/html": [
              "<script src=\"https://dashboard.talentsprint.com/aiml/record_ip.html?traineeId=2200092&recordId=6743\"></script>"
            ],
            "text/plain": [
              "<IPython.core.display.HTML object>"
            ]
          },
          "metadata": {}
        },
        {
          "output_type": "stream",
          "name": "stdout",
          "text": [
            "Setup completed successfully\n"
          ]
        }
      ]
    },
    {
      "cell_type": "markdown",
      "metadata": {
        "id": "GsODE6yLJ1uY"
      },
      "source": [
        "### Install Pyspark"
      ]
    },
    {
      "cell_type": "code",
      "metadata": {
        "id": "PbVweILTJ1uY",
        "colab": {
          "base_uri": "https://localhost:8080/"
        },
        "outputId": "5ff0ee84-da6f-4561-88ad-404404dfc568"
      },
      "source": [
        "!pip install pyspark"
      ],
      "execution_count": 6,
      "outputs": [
        {
          "output_type": "stream",
          "name": "stdout",
          "text": [
            "Collecting pyspark\n",
            "  Downloading pyspark-3.2.1.tar.gz (281.4 MB)\n",
            "\u001b[K     |████████████████████████████████| 281.4 MB 26 kB/s \n",
            "\u001b[?25hCollecting py4j==0.10.9.3\n",
            "  Downloading py4j-0.10.9.3-py2.py3-none-any.whl (198 kB)\n",
            "\u001b[K     |████████████████████████████████| 198 kB 55.8 MB/s \n",
            "\u001b[?25hBuilding wheels for collected packages: pyspark\n",
            "  Building wheel for pyspark (setup.py) ... \u001b[?25l\u001b[?25hdone\n",
            "  Created wheel for pyspark: filename=pyspark-3.2.1-py2.py3-none-any.whl size=281853642 sha256=ae3353a0145150a4ee5d987d18ad45eb98697fd140f8b025d8c9e0fd793039ed\n",
            "  Stored in directory: /root/.cache/pip/wheels/9f/f5/07/7cd8017084dce4e93e84e92efd1e1d5334db05f2e83bcef74f\n",
            "Successfully built pyspark\n",
            "Installing collected packages: py4j, pyspark\n",
            "Successfully installed py4j-0.10.9.3 pyspark-3.2.1\n"
          ]
        }
      ]
    },
    {
      "cell_type": "markdown",
      "metadata": {
        "id": "gjdtWmUaJ1uY"
      },
      "source": [
        "### Import required packages"
      ]
    },
    {
      "cell_type": "code",
      "metadata": {
        "id": "i2qaeOmyJ1uZ"
      },
      "source": [
        "from pyspark.sql import SparkSession\n",
        "from matplotlib import pyplot as plt\n",
        "import pandas as pd\n",
        "import string\n",
        "from pyspark.ml.feature import NGram\n",
        "from pyspark.ml import Pipeline\n",
        "from pyspark.sql.types import *\n",
        "from pyspark.sql.functions import *\n",
        "import nltk"
      ],
      "execution_count": 7,
      "outputs": []
    },
    {
      "cell_type": "markdown",
      "metadata": {
        "id": "f8ZWzA-VJ1uZ"
      },
      "source": [
        "### Start a Spark Session"
      ]
    },
    {
      "cell_type": "markdown",
      "metadata": {
        "id": "RKKkyz0IJ1uZ"
      },
      "source": [
        "Spark session is a combined entry point of a Spark application, which came into implementation from Spark 2.0. Instead of having various context, everything is now encapsulated in a Spark session."
      ]
    },
    {
      "cell_type": "code",
      "metadata": {
        "id": "pAeBc9XpJ1uZ",
        "colab": {
          "base_uri": "https://localhost:8080/",
          "height": 219
        },
        "outputId": "beffd01d-db7f-4803-867d-fddcd2d6a3d7"
      },
      "source": [
        "# Start spark session\n",
        "spark = SparkSession.builder.appName('ETL text data').getOrCreate()\n",
        "spark"
      ],
      "execution_count": 11,
      "outputs": [
        {
          "output_type": "execute_result",
          "data": {
            "text/html": [
              "\n",
              "            <div>\n",
              "                <p><b>SparkSession - in-memory</b></p>\n",
              "                \n",
              "        <div>\n",
              "            <p><b>SparkContext</b></p>\n",
              "\n",
              "            <p><a href=\"http://99f4f395d7e7:4040\">Spark UI</a></p>\n",
              "\n",
              "            <dl>\n",
              "              <dt>Version</dt>\n",
              "                <dd><code>v3.2.1</code></dd>\n",
              "              <dt>Master</dt>\n",
              "                <dd><code>local[*]</code></dd>\n",
              "              <dt>AppName</dt>\n",
              "                <dd><code>ETL text data</code></dd>\n",
              "            </dl>\n",
              "        </div>\n",
              "        \n",
              "            </div>\n",
              "        "
            ],
            "text/plain": [
              "<pyspark.sql.session.SparkSession at 0x7ff147a657d0>"
            ]
          },
          "metadata": {},
          "execution_count": 11
        }
      ]
    },
    {
      "cell_type": "markdown",
      "metadata": {
        "id": "_w1rS1nRJ1ua"
      },
      "source": [
        "### Text Analytics"
      ]
    },
    {
      "cell_type": "markdown",
      "metadata": {
        "id": "QUO-MOywJ1ua"
      },
      "source": [
        "#### Get the text data\n",
        "\n",
        "The raw text is from the Gutenberg corpus from the nltk package. Get file ids in Gutenberg corpus."
      ]
    },
    {
      "cell_type": "code",
      "metadata": {
        "id": "r8JRZaZPJ1ua",
        "colab": {
          "base_uri": "https://localhost:8080/"
        },
        "outputId": "80e50642-ff0e-47c7-b5a6-cf10d1e71bd0"
      },
      "source": [
        "nltk.download('gutenberg')\n",
        "\n",
        "# Download dependencies for sent_tokenize()\n",
        "nltk.download('punkt')"
      ],
      "execution_count": 12,
      "outputs": [
        {
          "output_type": "stream",
          "name": "stdout",
          "text": [
            "[nltk_data] Downloading package gutenberg to /root/nltk_data...\n",
            "[nltk_data]   Unzipping corpora/gutenberg.zip.\n",
            "[nltk_data] Downloading package punkt to /root/nltk_data...\n",
            "[nltk_data]   Unzipping tokenizers/punkt.zip.\n"
          ]
        },
        {
          "output_type": "execute_result",
          "data": {
            "text/plain": [
              "True"
            ]
          },
          "metadata": {},
          "execution_count": 12
        }
      ]
    },
    {
      "cell_type": "code",
      "metadata": {
        "id": "bkEWZrVWJ1ua",
        "colab": {
          "base_uri": "https://localhost:8080/"
        },
        "outputId": "e89bdc99-b113-427b-9941-6ce9de4f4c07"
      },
      "source": [
        "from nltk.corpus import gutenberg\n",
        "gutenberg_fileids = gutenberg.fileids()\n",
        "gutenberg_fileids"
      ],
      "execution_count": 13,
      "outputs": [
        {
          "output_type": "execute_result",
          "data": {
            "text/plain": [
              "['austen-emma.txt',\n",
              " 'austen-persuasion.txt',\n",
              " 'austen-sense.txt',\n",
              " 'bible-kjv.txt',\n",
              " 'blake-poems.txt',\n",
              " 'bryant-stories.txt',\n",
              " 'burgess-busterbrown.txt',\n",
              " 'carroll-alice.txt',\n",
              " 'chesterton-ball.txt',\n",
              " 'chesterton-brown.txt',\n",
              " 'chesterton-thursday.txt',\n",
              " 'edgeworth-parents.txt',\n",
              " 'melville-moby_dick.txt',\n",
              " 'milton-paradise.txt',\n",
              " 'shakespeare-caesar.txt',\n",
              " 'shakespeare-hamlet.txt',\n",
              " 'shakespeare-macbeth.txt',\n",
              " 'whitman-leaves.txt']"
            ]
          },
          "metadata": {},
          "execution_count": 13
        }
      ]
    },
    {
      "cell_type": "markdown",
      "metadata": {
        "id": "0_vRcgahJ1ua"
      },
      "source": [
        "The file id is `milton-paradise.txt`. Use the nltk.sent_tokenize() function to split text into sentences."
      ]
    },
    {
      "cell_type": "code",
      "metadata": {
        "id": "XtvBSiuFJ1ub",
        "colab": {
          "base_uri": "https://localhost:8080/"
        },
        "outputId": "7d4168fe-91ee-4671-f8d7-b852aae1a432"
      },
      "source": [
        "milton_paradise = gutenberg.raw('milton-paradise.txt')\n",
        "\n",
        "pdf = pd.DataFrame({'sentences': nltk.sent_tokenize(milton_paradise)})\n",
        "d = spark.createDataFrame(pdf)\n",
        "d.show(1, truncate= False)"
      ],
      "execution_count": 14,
      "outputs": [
        {
          "output_type": "stream",
          "name": "stdout",
          "text": [
            "+---------------------------------------------------------------------------------------------------------------------------------------------------------------------------------------------------------------------------------------------------------------------------------------------------------------------------------------------------------------------------------------------------------------------------------------------------------------------------------------------------------------------------------------------------------------------------------------------------------------------------------------------------------------------------------------------------------------------------------------------------------------------------------------+\n",
            "|sentences                                                                                                                                                                                                                                                                                                                                                                                                                                                                                                                                                                                                                                                                                                                                                                              |\n",
            "+---------------------------------------------------------------------------------------------------------------------------------------------------------------------------------------------------------------------------------------------------------------------------------------------------------------------------------------------------------------------------------------------------------------------------------------------------------------------------------------------------------------------------------------------------------------------------------------------------------------------------------------------------------------------------------------------------------------------------------------------------------------------------------------+\n",
            "|[Paradise Lost by John Milton 1667] \\n \\n \\nBook I \\n \\n \\nOf Man's first disobedience, and the fruit \\nOf that forbidden tree whose mortal taste \\nBrought death into the World, and all our woe, \\nWith loss of Eden, till one greater Man \\nRestore us, and regain the blissful seat, \\nSing, Heavenly Muse, that, on the secret top \\nOf Oreb, or of Sinai, didst inspire \\nThat shepherd who first taught the chosen seed \\nIn the beginning how the heavens and earth \\nRose out of Chaos: or, if Sion hill \\nDelight thee more, and Siloa's brook that flowed \\nFast by the oracle of God, I thence \\nInvoke thy aid to my adventurous song, \\nThat with no middle flight intends to soar \\nAbove th' Aonian mount, while it pursues \\nThings unattempted yet in prose or rhyme.|\n",
            "+---------------------------------------------------------------------------------------------------------------------------------------------------------------------------------------------------------------------------------------------------------------------------------------------------------------------------------------------------------------------------------------------------------------------------------------------------------------------------------------------------------------------------------------------------------------------------------------------------------------------------------------------------------------------------------------------------------------------------------------------------------------------------------------+\n",
            "only showing top 1 row\n",
            "\n"
          ]
        }
      ]
    },
    {
      "cell_type": "markdown",
      "metadata": {
        "id": "1wiCzYxgJ1ub"
      },
      "source": [
        "From above it can be seen that empty spaces are present in the data."
      ]
    },
    {
      "cell_type": "markdown",
      "metadata": {
        "id": "EW2NfTKfJ1ub"
      },
      "source": [
        "#### Transform Data\n",
        "\n",
        "* Remove trailing spaces"
      ]
    },
    {
      "cell_type": "code",
      "metadata": {
        "id": "iearnIOYJ1ub"
      },
      "source": [
        "# Transform data\n",
        "d1 = d.withColumn(\"sentences\", regexp_replace(col(\"sentences\"), \"\\\\s+\",\"_\"))       # replace all spaces with underscore\n",
        "d1 = d1.withColumn(\"sentences\", regexp_replace(col(\"sentences\"), \"_\",\" \"))         # replace all underscores with one space\n",
        "d1 = d1.withColumn(\"sentences\", trim(col(\"sentences\")))                            # remove trailing spaces"
      ],
      "execution_count": 15,
      "outputs": []
    },
    {
      "cell_type": "code",
      "metadata": {
        "id": "9hVrcNODJ1ub",
        "colab": {
          "base_uri": "https://localhost:8080/"
        },
        "outputId": "049a2b24-61e5-4a10-c512-418c49432c19"
      },
      "source": [
        "d1.show(5, truncate= False)"
      ],
      "execution_count": 16,
      "outputs": [
        {
          "output_type": "stream",
          "name": "stdout",
          "text": [
            "+-----------------------------------------------------------------------------------------------------------------------------------------------------------------------------------------------------------------------------------------------------------------------------------------------------------------------------------------------------------------------------------------------------------------------------------------------------------------------------------------------------------------------------------------------------------------------------------------------------------------------------------------------------------------------------------------------------------------------------------------+\n",
            "|sentences                                                                                                                                                                                                                                                                                                                                                                                                                                                                                                                                                                                                                                                                                                                                |\n",
            "+-----------------------------------------------------------------------------------------------------------------------------------------------------------------------------------------------------------------------------------------------------------------------------------------------------------------------------------------------------------------------------------------------------------------------------------------------------------------------------------------------------------------------------------------------------------------------------------------------------------------------------------------------------------------------------------------------------------------------------------------+\n",
            "|[Paradise Lost by John Milton 1667] Book I Of Man's first disobedience, and the fruit Of that forbidden tree whose mortal taste Brought death into the World, and all our woe, With loss of Eden, till one greater Man Restore us, and regain the blissful seat, Sing, Heavenly Muse, that, on the secret top Of Oreb, or of Sinai, didst inspire That shepherd who first taught the chosen seed In the beginning how the heavens and earth Rose out of Chaos: or, if Sion hill Delight thee more, and Siloa's brook that flowed Fast by the oracle of God, I thence Invoke thy aid to my adventurous song, That with no middle flight intends to soar Above th' Aonian mount, while it pursues Things unattempted yet in prose or rhyme.|\n",
            "|And chiefly thou, O Spirit, that dost prefer Before all temples th' upright heart and pure, Instruct me, for thou know'st; thou from the first Wast present, and, with mighty wings outspread, Dove-like sat'st brooding on the vast Abyss, And mad'st it pregnant: what in me is dark Illumine, what is low raise and support; That, to the height of this great argument, I may assert Eternal Providence, And justify the ways of God to men.                                                                                                                                                                                                                                                                                         |\n",
            "|Say first--for Heaven hides nothing from thy view, Nor the deep tract of Hell--say first what cause Moved our grand parents, in that happy state, Favoured of Heaven so highly, to fall off From their Creator, and transgress his will For one restraint, lords of the World besides.                                                                                                                                                                                                                                                                                                                                                                                                                                                   |\n",
            "|Who first seduced them to that foul revolt?                                                                                                                                                                                                                                                                                                                                                                                                                                                                                                                                                                                                                                                                                              |\n",
            "|Th' infernal Serpent; he it was whose guile, Stirred up with envy and revenge, deceived The mother of mankind, what time his pride Had cast him out from Heaven, with all his host Of rebel Angels, by whose aid, aspiring To set himself in glory above his peers, He trusted to have equalled the Most High, If he opposed, and with ambitious aim Against the throne and monarchy of God, Raised impious war in Heaven and battle proud, With vain attempt.                                                                                                                                                                                                                                                                           |\n",
            "+-----------------------------------------------------------------------------------------------------------------------------------------------------------------------------------------------------------------------------------------------------------------------------------------------------------------------------------------------------------------------------------------------------------------------------------------------------------------------------------------------------------------------------------------------------------------------------------------------------------------------------------------------------------------------------------------------------------------------------------------+\n",
            "only showing top 5 rows\n",
            "\n"
          ]
        }
      ]
    },
    {
      "cell_type": "code",
      "metadata": {
        "id": "yrO3vZ67J1uc",
        "colab": {
          "base_uri": "https://localhost:8080/"
        },
        "outputId": "c964fd62-1cd6-4ba7-e1c5-ba0c7f1dcdfb"
      },
      "source": [
        "# Check for empty lines\n",
        "d1.where(col(\"sentences\")==\"\").count()"
      ],
      "execution_count": 17,
      "outputs": [
        {
          "output_type": "execute_result",
          "data": {
            "text/plain": [
              "0"
            ]
          },
          "metadata": {},
          "execution_count": 17
        }
      ]
    },
    {
      "cell_type": "markdown",
      "metadata": {
        "id": "iUTbYzXSJ1uc"
      },
      "source": [
        "##### Word Tokenization\n",
        "\n",
        "It is the process of breaking down a paragraph, a sentence or a complete text corpus into an array of words."
      ]
    },
    {
      "cell_type": "code",
      "metadata": {
        "id": "5TaiZDtkJ1uc"
      },
      "source": [
        "from nltk.tokenize import word_tokenize\n",
        "\n",
        "word_udf = udf(lambda x: word_tokenize(x), ArrayType(StringType()))\n",
        "d2 = d1.withColumn(\"words\", word_udf(\"sentences\"))"
      ],
      "execution_count": 18,
      "outputs": []
    },
    {
      "cell_type": "code",
      "metadata": {
        "id": "VX4130tAJ1uc",
        "colab": {
          "base_uri": "https://localhost:8080/"
        },
        "outputId": "f192b67a-fb75-45dd-8f34-11d5afc9b64b"
      },
      "source": [
        "d2.show(5)"
      ],
      "execution_count": 19,
      "outputs": [
        {
          "output_type": "stream",
          "name": "stdout",
          "text": [
            "+--------------------+--------------------+\n",
            "|           sentences|               words|\n",
            "+--------------------+--------------------+\n",
            "|[Paradise Lost by...|[[, Paradise, Los...|\n",
            "|And chiefly thou,...|[And, chiefly, th...|\n",
            "|Say first--for He...|[Say, first, --, ...|\n",
            "|Who first seduced...|[Who, first, sedu...|\n",
            "|Th' infernal Serp...|[Th, ', infernal,...|\n",
            "+--------------------+--------------------+\n",
            "only showing top 5 rows\n",
            "\n"
          ]
        }
      ]
    },
    {
      "cell_type": "markdown",
      "metadata": {
        "id": "F4N9SIngJ1uc"
      },
      "source": [
        "From above it can be seen that data has punctuations in it.\n",
        "\n",
        "* **Remove punctuation and stopwords**"
      ]
    },
    {
      "cell_type": "code",
      "metadata": {
        "id": "DxR9eooPJ1uc",
        "colab": {
          "base_uri": "https://localhost:8080/"
        },
        "outputId": "6a63b420-7021-4c84-b2c1-b05527c38937"
      },
      "source": [
        "# Download stopwords\n",
        "nltk.download('stopwords')"
      ],
      "execution_count": 20,
      "outputs": [
        {
          "output_type": "stream",
          "name": "stdout",
          "text": [
            "[nltk_data] Downloading package stopwords to /root/nltk_data...\n",
            "[nltk_data]   Unzipping corpora/stopwords.zip.\n"
          ]
        },
        {
          "output_type": "execute_result",
          "data": {
            "text/plain": [
              "True"
            ]
          },
          "metadata": {},
          "execution_count": 20
        }
      ]
    },
    {
      "cell_type": "code",
      "metadata": {
        "id": "1rRHaCN0J1ud",
        "colab": {
          "base_uri": "https://localhost:8080/"
        },
        "outputId": "4397e6bc-2e0d-4d0e-efe1-cce6e8ae0a1a"
      },
      "source": [
        "from nltk.corpus import stopwords\n",
        "stop_words = set(stopwords.words('english'))\n",
        "print(stop_words)"
      ],
      "execution_count": 21,
      "outputs": [
        {
          "output_type": "stream",
          "name": "stdout",
          "text": [
            "{'when', 'these', \"hasn't\", 'down', 'our', 'don', 'myself', 'to', 'having', 'for', 'only', \"doesn't\", 'your', 'both', 'shouldn', \"couldn't\", 'being', \"didn't\", 'out', \"she's\", 'herself', 'any', 'll', \"mustn't\", \"it's\", 'here', 'his', 'yours', 'doing', 'after', 'himself', 'on', \"won't\", 'a', 'above', 'before', 'why', 'same', 'this', 'y', 'were', 'very', 'that', 'm', 'does', 'some', 'will', 'she', 'while', \"shan't\", 'all', 'just', 'through', \"wasn't\", 'each', 'he', 'ma', 'there', 'more', 'ain', 'whom', 'then', 'o', 'should', 'who', 'isn', \"shouldn't\", \"you've\", 'into', 'an', 'how', 'didn', 'they', 'me', 'did', 'nor', 'over', 's', 'their', 'hasn', 'of', 'was', 'which', 'below', \"you're\", 'again', \"needn't\", 'you', 'am', 'wouldn', 'with', 'be', 'mustn', 'can', 'have', 'wasn', 'themselves', 'than', 'needn', 'as', 'but', \"don't\", 'until', 'in', \"haven't\", 'shan', 'because', \"hadn't\", 'if', 'under', 'them', 'been', 'doesn', 'against', 'during', 'weren', 'where', \"you'd\", 'do', 'about', 'hers', 'those', 'no', 'its', 'few', 'mightn', \"should've\", 'd', 'not', 'most', \"that'll\", 'we', 'once', 'him', 'at', 'haven', 'yourselves', 'so', 'won', \"aren't\", 'by', \"wouldn't\", 'off', \"weren't\", 'other', 'what', 'has', 'between', 'are', 'ours', \"isn't\", 'further', 'from', 'yourself', \"you'll\", 'it', 'such', 're', 'up', 'ourselves', 'itself', 'i', 've', 't', 'or', 'own', 'aren', 'is', 'and', 'her', 'had', 'hadn', 'the', 'my', \"mightn't\", 'too', 'now', 'theirs', 'couldn'}\n"
          ]
        }
      ]
    },
    {
      "cell_type": "code",
      "metadata": {
        "id": "vSSCh2QeJ1ud",
        "colab": {
          "base_uri": "https://localhost:8080/"
        },
        "outputId": "2ccf864e-782a-4b13-d686-dcd4b0585cab"
      },
      "source": [
        "\n",
        "punctuation = string.punctuation\n",
        "print(punctuation)"
      ],
      "execution_count": 22,
      "outputs": [
        {
          "output_type": "stream",
          "name": "stdout",
          "text": [
            "!\"#$%&'()*+,-./:;<=>?@[\\]^_`{|}~\n"
          ]
        }
      ]
    },
    {
      "cell_type": "code",
      "metadata": {
        "id": "3gKHU3-bJ1ud",
        "colab": {
          "base_uri": "https://localhost:8080/"
        },
        "outputId": "1d9460ef-d005-4833-ce9f-53ee7ac7543e"
      },
      "source": [
        "# Transform data\n",
        "punct_udf = udf(lambda x: [w for w in x if not w in punctuation if not w in stop_words])\n",
        "d3 = d2.withColumn(\"words\", punct_udf(\"words\"))\n",
        "d3.show(5)"
      ],
      "execution_count": 23,
      "outputs": [
        {
          "output_type": "stream",
          "name": "stdout",
          "text": [
            "+--------------------+--------------------+\n",
            "|           sentences|               words|\n",
            "+--------------------+--------------------+\n",
            "|[Paradise Lost by...|[Paradise, Lost, ...|\n",
            "|And chiefly thou,...|[And, chiefly, th...|\n",
            "|Say first--for He...|[Say, first, --, ...|\n",
            "|Who first seduced...|[Who, first, sedu...|\n",
            "|Th' infernal Serp...|[Th, infernal, Se...|\n",
            "+--------------------+--------------------+\n",
            "only showing top 5 rows\n",
            "\n"
          ]
        }
      ]
    },
    {
      "cell_type": "code",
      "metadata": {
        "id": "x7CN5QwlJ1ud",
        "colab": {
          "base_uri": "https://localhost:8080/"
        },
        "outputId": "109ff46a-2f2c-49a2-d003-70aa99acadc2"
      },
      "source": [
        "# Convert dataframe column to arraytype for further processing\n",
        "\n",
        "array_udf = udf(lambda x: x, ArrayType(StringType()))\n",
        "d4 = d3.withColumn(\"words\", array_udf(\"words\"))\n",
        "d4.show(5)"
      ],
      "execution_count": 24,
      "outputs": [
        {
          "output_type": "stream",
          "name": "stdout",
          "text": [
            "+--------------------+--------------------+\n",
            "|           sentences|               words|\n",
            "+--------------------+--------------------+\n",
            "|[Paradise Lost by...|[Paradise, Lost, ...|\n",
            "|And chiefly thou,...|[And, chiefly, th...|\n",
            "|Say first--for He...|[Say, first, --, ...|\n",
            "|Who first seduced...|[Who, first, sedu...|\n",
            "|Th' infernal Serp...|[Th, infernal, Se...|\n",
            "+--------------------+--------------------+\n",
            "only showing top 5 rows\n",
            "\n"
          ]
        }
      ]
    },
    {
      "cell_type": "markdown",
      "metadata": {
        "id": "0HgsKRUDJ1ud"
      },
      "source": [
        "##### Ngrams and collocations\n",
        "\n",
        "Collocation is a sequence of words that occur together unusually often.\n",
        "Bigrams: word pairs. High frequent bigrams are collocations.\n",
        "\n",
        "Let's see how we transform texts to 2-grams, 3-grams, and 4-grams collocations."
      ]
    },
    {
      "cell_type": "code",
      "metadata": {
        "id": "oSeoJeoMJ1ue"
      },
      "source": [
        "ngrams = [NGram(n=n, inputCol='words', outputCol=str(n)+'-grams') for n in [2,3,4]]\n",
        "\n",
        "# build pipeline model\n",
        "pipeline = Pipeline(stages=ngrams)\n",
        "\n",
        "# transform data\n",
        "texts_ngrams = pipeline.fit(d4).transform(d4)"
      ],
      "execution_count": 25,
      "outputs": []
    },
    {
      "cell_type": "code",
      "metadata": {
        "id": "yxhhYXXrJ1ue",
        "colab": {
          "base_uri": "https://localhost:8080/"
        },
        "outputId": "8d07b902-2cbd-41ed-aa5d-01e0245f9f28"
      },
      "source": [
        "# display result\n",
        "texts_ngrams.select('2-grams').show(6, truncate=False)\n",
        "texts_ngrams.select('3-grams').show(6, truncate=False)\n",
        "texts_ngrams.select('4-grams').show(6, truncate=False)"
      ],
      "execution_count": 26,
      "outputs": [
        {
          "output_type": "stream",
          "name": "stdout",
          "text": [
            "+------------------------------------------------------------------------------------------------------------------------------------------------------------------------------------------------------------------------------------------------------------------------------------------------------------------------------------------------------------------------------------------------------------------------------------------------------------------------------------------------------------------------------------------------------------------------------------------------------------------------------------------------------------------------------------------------------------------------------------------------------------------------------------------------------------------------------------------------------------------------------------------------------------------------------------------------------------------------------------------------------------------------------------------------------------------------------------------------------------------------------------------------------------------------------------------+\n",
            "|2-grams                                                                                                                                                                                                                                                                                                                                                                                                                                                                                                                                                                                                                                                                                                                                                                                                                                                                                                                                                                                                                                                                                                                                                                                   |\n",
            "+------------------------------------------------------------------------------------------------------------------------------------------------------------------------------------------------------------------------------------------------------------------------------------------------------------------------------------------------------------------------------------------------------------------------------------------------------------------------------------------------------------------------------------------------------------------------------------------------------------------------------------------------------------------------------------------------------------------------------------------------------------------------------------------------------------------------------------------------------------------------------------------------------------------------------------------------------------------------------------------------------------------------------------------------------------------------------------------------------------------------------------------------------------------------------------------+\n",
            "|[Paradise Lost, Lost John, John Milton, Milton 1667, 1667 Book, Book I, I Of, Of Man, Man 's, 's first, first disobedience, disobedience fruit, fruit Of, Of forbidden, forbidden tree, tree whose, whose mortal, mortal taste, taste Brought, Brought death, death World, World woe, woe With, With loss, loss Eden, Eden till, till one, one greater, greater Man, Man Restore, Restore us, us regain, regain blissful, blissful seat, seat Sing, Sing Heavenly, Heavenly Muse, Muse secret, secret top, top Of, Of Oreb, Oreb Sinai, Sinai didst, didst inspire, inspire That, That shepherd, shepherd first, first taught, taught chosen, chosen seed, seed In, In beginning, beginning heavens, heavens earth, earth Rose, Rose Chaos, Chaos Sion, Sion hill, hill Delight, Delight thee, thee Siloa, Siloa 's, 's brook, brook flowed, flowed Fast, Fast oracle, oracle God, God I, I thence, thence Invoke, Invoke thy, thy aid, aid adventurous, adventurous song, song That, That middle, middle flight, flight intends, intends soar, soar Above, Above th, th Aonian, Aonian mount, mount pursues, pursues Things, Things unattempted, unattempted yet, yet prose, prose rhyme]|\n",
            "|[And chiefly, chiefly thou, thou O, O Spirit, Spirit dost, dost prefer, prefer Before, Before temples, temples th, th upright, upright heart, heart pure, pure Instruct, Instruct thou, thou know'st, know'st thou, thou first, first Wast, Wast present, present mighty, mighty wings, wings outspread, outspread Dove-like, Dove-like sat'st, sat'st brooding, brooding vast, vast Abyss, Abyss And, And mad'st, mad'st pregnant, pregnant dark, dark Illumine, Illumine low, low raise, raise support, support That, That height, height great, great argument, argument I, I may, may assert, assert Eternal, Eternal Providence, Providence And, And justify, justify ways, ways God, God men]                                                                                                                                                                                                                                                                                                                                                                                                                                                                                       |\n",
            "|[Say first, first --, -- Heaven, Heaven hides, hides nothing, nothing thy, thy view, view Nor, Nor deep, deep tract, tract Hell, Hell --, -- say, say first, first cause, cause Moved, Moved grand, grand parents, parents happy, happy state, state Favoured, Favoured Heaven, Heaven highly, highly fall, fall From, From Creator, Creator transgress, transgress For, For one, one restraint, restraint lords, lords World, World besides]                                                                                                                                                                                                                                                                                                                                                                                                                                                                                                                                                                                                                                                                                                                                             |\n",
            "|[Who first, first seduced, seduced foul, foul revolt]                                                                                                                                                                                                                                                                                                                                                                                                                                                                                                                                                                                                                                                                                                                                                                                                                                                                                                                                                                                                                                                                                                                                     |\n",
            "|[Th infernal, infernal Serpent, Serpent whose, whose guile, guile Stirred, Stirred envy, envy revenge, revenge deceived, deceived The, The mother, mother mankind, mankind time, time pride, pride Had, Had cast, cast Heaven, Heaven host, host Of, Of rebel, rebel Angels, Angels whose, whose aid, aid aspiring, aspiring To, To set, set glory, glory peers, peers He, He trusted, trusted equalled, equalled Most, Most High, High If, If opposed, opposed ambitious, ambitious aim, aim Against, Against throne, throne monarchy, monarchy God, God Raised, Raised impious, impious war, war Heaven, Heaven battle, battle proud, proud With, With vain, vain attempt]                                                                                                                                                                                                                                                                                                                                                                                                                                                                                                              |\n",
            "|[Him Almighty, Almighty Power, Power Hurled, Hurled headlong, headlong flaming, flaming th, th ethereal, ethereal sky, sky With, With hideous, hideous ruin, ruin combustion, combustion To, To bottomless, bottomless perdition, perdition dwell, dwell In, In adamantine, adamantine chains, chains penal, penal fire, fire Who, Who durst, durst defy, defy th, th Omnipotent, Omnipotent arms]                                                                                                                                                                                                                                                                                                                                                                                                                                                                                                                                                                                                                                                                                                                                                                                        |\n",
            "+------------------------------------------------------------------------------------------------------------------------------------------------------------------------------------------------------------------------------------------------------------------------------------------------------------------------------------------------------------------------------------------------------------------------------------------------------------------------------------------------------------------------------------------------------------------------------------------------------------------------------------------------------------------------------------------------------------------------------------------------------------------------------------------------------------------------------------------------------------------------------------------------------------------------------------------------------------------------------------------------------------------------------------------------------------------------------------------------------------------------------------------------------------------------------------------+\n",
            "only showing top 6 rows\n",
            "\n",
            "+-----------------------------------------------------------------------------------------------------------------------------------------------------------------------------------------------------------------------------------------------------------------------------------------------------------------------------------------------------------------------------------------------------------------------------------------------------------------------------------------------------------------------------------------------------------------------------------------------------------------------------------------------------------------------------------------------------------------------------------------------------------------------------------------------------------------------------------------------------------------------------------------------------------------------------------------------------------------------------------------------------------------------------------------------------------------------------------------------------------------------------------------------------------------------------------------------------------------------------------------------------------------------------------------------------------------------------------------------------------------------------------------------------------------------------------------------------------------------------------------------------------------------------------------------------------------------------------------------------------------------------------------------------------------------------------------------------------------------+\n",
            "|3-grams                                                                                                                                                                                                                                                                                                                                                                                                                                                                                                                                                                                                                                                                                                                                                                                                                                                                                                                                                                                                                                                                                                                                                                                                                                                                                                                                                                                                                                                                                                                                                                                                                                                                                                                |\n",
            "+-----------------------------------------------------------------------------------------------------------------------------------------------------------------------------------------------------------------------------------------------------------------------------------------------------------------------------------------------------------------------------------------------------------------------------------------------------------------------------------------------------------------------------------------------------------------------------------------------------------------------------------------------------------------------------------------------------------------------------------------------------------------------------------------------------------------------------------------------------------------------------------------------------------------------------------------------------------------------------------------------------------------------------------------------------------------------------------------------------------------------------------------------------------------------------------------------------------------------------------------------------------------------------------------------------------------------------------------------------------------------------------------------------------------------------------------------------------------------------------------------------------------------------------------------------------------------------------------------------------------------------------------------------------------------------------------------------------------------+\n",
            "|[Paradise Lost John, Lost John Milton, John Milton 1667, Milton 1667 Book, 1667 Book I, Book I Of, I Of Man, Of Man 's, Man 's first, 's first disobedience, first disobedience fruit, disobedience fruit Of, fruit Of forbidden, Of forbidden tree, forbidden tree whose, tree whose mortal, whose mortal taste, mortal taste Brought, taste Brought death, Brought death World, death World woe, World woe With, woe With loss, With loss Eden, loss Eden till, Eden till one, till one greater, one greater Man, greater Man Restore, Man Restore us, Restore us regain, us regain blissful, regain blissful seat, blissful seat Sing, seat Sing Heavenly, Sing Heavenly Muse, Heavenly Muse secret, Muse secret top, secret top Of, top Of Oreb, Of Oreb Sinai, Oreb Sinai didst, Sinai didst inspire, didst inspire That, inspire That shepherd, That shepherd first, shepherd first taught, first taught chosen, taught chosen seed, chosen seed In, seed In beginning, In beginning heavens, beginning heavens earth, heavens earth Rose, earth Rose Chaos, Rose Chaos Sion, Chaos Sion hill, Sion hill Delight, hill Delight thee, Delight thee Siloa, thee Siloa 's, Siloa 's brook, 's brook flowed, brook flowed Fast, flowed Fast oracle, Fast oracle God, oracle God I, God I thence, I thence Invoke, thence Invoke thy, Invoke thy aid, thy aid adventurous, aid adventurous song, adventurous song That, song That middle, That middle flight, middle flight intends, flight intends soar, intends soar Above, soar Above th, Above th Aonian, th Aonian mount, Aonian mount pursues, mount pursues Things, pursues Things unattempted, Things unattempted yet, unattempted yet prose, yet prose rhyme]|\n",
            "|[And chiefly thou, chiefly thou O, thou O Spirit, O Spirit dost, Spirit dost prefer, dost prefer Before, prefer Before temples, Before temples th, temples th upright, th upright heart, upright heart pure, heart pure Instruct, pure Instruct thou, Instruct thou know'st, thou know'st thou, know'st thou first, thou first Wast, first Wast present, Wast present mighty, present mighty wings, mighty wings outspread, wings outspread Dove-like, outspread Dove-like sat'st, Dove-like sat'st brooding, sat'st brooding vast, brooding vast Abyss, vast Abyss And, Abyss And mad'st, And mad'st pregnant, mad'st pregnant dark, pregnant dark Illumine, dark Illumine low, Illumine low raise, low raise support, raise support That, support That height, That height great, height great argument, great argument I, argument I may, I may assert, may assert Eternal, assert Eternal Providence, Eternal Providence And, Providence And justify, And justify ways, justify ways God, ways God men]                                                                                                                                                                                                                                                                                                                                                                                                                                                                                                                                                                                                                                                                                                            |\n",
            "|[Say first --, first -- Heaven, -- Heaven hides, Heaven hides nothing, hides nothing thy, nothing thy view, thy view Nor, view Nor deep, Nor deep tract, deep tract Hell, tract Hell --, Hell -- say, -- say first, say first cause, first cause Moved, cause Moved grand, Moved grand parents, grand parents happy, parents happy state, happy state Favoured, state Favoured Heaven, Favoured Heaven highly, Heaven highly fall, highly fall From, fall From Creator, From Creator transgress, Creator transgress For, transgress For one, For one restraint, one restraint lords, restraint lords World, lords World besides]                                                                                                                                                                                                                                                                                                                                                                                                                                                                                                                                                                                                                                                                                                                                                                                                                                                                                                                                                                                                                                                                                       |\n",
            "|[Who first seduced, first seduced foul, seduced foul revolt]                                                                                                                                                                                                                                                                                                                                                                                                                                                                                                                                                                                                                                                                                                                                                                                                                                                                                                                                                                                                                                                                                                                                                                                                                                                                                                                                                                                                                                                                                                                                                                                                                                                           |\n",
            "|[Th infernal Serpent, infernal Serpent whose, Serpent whose guile, whose guile Stirred, guile Stirred envy, Stirred envy revenge, envy revenge deceived, revenge deceived The, deceived The mother, The mother mankind, mother mankind time, mankind time pride, time pride Had, pride Had cast, Had cast Heaven, cast Heaven host, Heaven host Of, host Of rebel, Of rebel Angels, rebel Angels whose, Angels whose aid, whose aid aspiring, aid aspiring To, aspiring To set, To set glory, set glory peers, glory peers He, peers He trusted, He trusted equalled, trusted equalled Most, equalled Most High, Most High If, High If opposed, If opposed ambitious, opposed ambitious aim, ambitious aim Against, aim Against throne, Against throne monarchy, throne monarchy God, monarchy God Raised, God Raised impious, Raised impious war, impious war Heaven, war Heaven battle, Heaven battle proud, battle proud With, proud With vain, With vain attempt]                                                                                                                                                                                                                                                                                                                                                                                                                                                                                                                                                                                                                                                                                                                                                  |\n",
            "|[Him Almighty Power, Almighty Power Hurled, Power Hurled headlong, Hurled headlong flaming, headlong flaming th, flaming th ethereal, th ethereal sky, ethereal sky With, sky With hideous, With hideous ruin, hideous ruin combustion, ruin combustion To, combustion To bottomless, To bottomless perdition, bottomless perdition dwell, perdition dwell In, dwell In adamantine, In adamantine chains, adamantine chains penal, chains penal fire, penal fire Who, fire Who durst, Who durst defy, durst defy th, defy th Omnipotent, th Omnipotent arms]                                                                                                                                                                                                                                                                                                                                                                                                                                                                                                                                                                                                                                                                                                                                                                                                                                                                                                                                                                                                                                                                                                                                                           |\n",
            "+-----------------------------------------------------------------------------------------------------------------------------------------------------------------------------------------------------------------------------------------------------------------------------------------------------------------------------------------------------------------------------------------------------------------------------------------------------------------------------------------------------------------------------------------------------------------------------------------------------------------------------------------------------------------------------------------------------------------------------------------------------------------------------------------------------------------------------------------------------------------------------------------------------------------------------------------------------------------------------------------------------------------------------------------------------------------------------------------------------------------------------------------------------------------------------------------------------------------------------------------------------------------------------------------------------------------------------------------------------------------------------------------------------------------------------------------------------------------------------------------------------------------------------------------------------------------------------------------------------------------------------------------------------------------------------------------------------------------------+\n",
            "only showing top 6 rows\n",
            "\n",
            "+-------------------------------------------------------------------------------------------------------------------------------------------------------------------------------------------------------------------------------------------------------------------------------------------------------------------------------------------------------------------------------------------------------------------------------------------------------------------------------------------------------------------------------------------------------------------------------------------------------------------------------------------------------------------------------------------------------------------------------------------------------------------------------------------------------------------------------------------------------------------------------------------------------------------------------------------------------------------------------------------------------------------------------------------------------------------------------------------------------------------------------------------------------------------------------------------------------------------------------------------------------------------------------------------------------------------------------------------------------------------------------------------------------------------------------------------------------------------------------------------------------------------------------------------------------------------------------------------------------------------------------------------------------------------------------------------------------------------------------------------------------------------------------------------------------------------------------------------------------------------------------------------------------------------------------------------------------------------------------------------------------------------------------------------------------------------------------------------------------------------------------------------------------------------------------------------------------------------------------------------+\n",
            "|4-grams                                                                                                                                                                                                                                                                                                                                                                                                                                                                                                                                                                                                                                                                                                                                                                                                                                                                                                                                                                                                                                                                                                                                                                                                                                                                                                                                                                                                                                                                                                                                                                                                                                                                                                                                                                                                                                                                                                                                                                                                                                                                                                                                                                                                                                    |\n",
            "+-------------------------------------------------------------------------------------------------------------------------------------------------------------------------------------------------------------------------------------------------------------------------------------------------------------------------------------------------------------------------------------------------------------------------------------------------------------------------------------------------------------------------------------------------------------------------------------------------------------------------------------------------------------------------------------------------------------------------------------------------------------------------------------------------------------------------------------------------------------------------------------------------------------------------------------------------------------------------------------------------------------------------------------------------------------------------------------------------------------------------------------------------------------------------------------------------------------------------------------------------------------------------------------------------------------------------------------------------------------------------------------------------------------------------------------------------------------------------------------------------------------------------------------------------------------------------------------------------------------------------------------------------------------------------------------------------------------------------------------------------------------------------------------------------------------------------------------------------------------------------------------------------------------------------------------------------------------------------------------------------------------------------------------------------------------------------------------------------------------------------------------------------------------------------------------------------------------------------------------------+\n",
            "|[Paradise Lost John Milton, Lost John Milton 1667, John Milton 1667 Book, Milton 1667 Book I, 1667 Book I Of, Book I Of Man, I Of Man 's, Of Man 's first, Man 's first disobedience, 's first disobedience fruit, first disobedience fruit Of, disobedience fruit Of forbidden, fruit Of forbidden tree, Of forbidden tree whose, forbidden tree whose mortal, tree whose mortal taste, whose mortal taste Brought, mortal taste Brought death, taste Brought death World, Brought death World woe, death World woe With, World woe With loss, woe With loss Eden, With loss Eden till, loss Eden till one, Eden till one greater, till one greater Man, one greater Man Restore, greater Man Restore us, Man Restore us regain, Restore us regain blissful, us regain blissful seat, regain blissful seat Sing, blissful seat Sing Heavenly, seat Sing Heavenly Muse, Sing Heavenly Muse secret, Heavenly Muse secret top, Muse secret top Of, secret top Of Oreb, top Of Oreb Sinai, Of Oreb Sinai didst, Oreb Sinai didst inspire, Sinai didst inspire That, didst inspire That shepherd, inspire That shepherd first, That shepherd first taught, shepherd first taught chosen, first taught chosen seed, taught chosen seed In, chosen seed In beginning, seed In beginning heavens, In beginning heavens earth, beginning heavens earth Rose, heavens earth Rose Chaos, earth Rose Chaos Sion, Rose Chaos Sion hill, Chaos Sion hill Delight, Sion hill Delight thee, hill Delight thee Siloa, Delight thee Siloa 's, thee Siloa 's brook, Siloa 's brook flowed, 's brook flowed Fast, brook flowed Fast oracle, flowed Fast oracle God, Fast oracle God I, oracle God I thence, God I thence Invoke, I thence Invoke thy, thence Invoke thy aid, Invoke thy aid adventurous, thy aid adventurous song, aid adventurous song That, adventurous song That middle, song That middle flight, That middle flight intends, middle flight intends soar, flight intends soar Above, intends soar Above th, soar Above th Aonian, Above th Aonian mount, th Aonian mount pursues, Aonian mount pursues Things, mount pursues Things unattempted, pursues Things unattempted yet, Things unattempted yet prose, unattempted yet prose rhyme]|\n",
            "|[And chiefly thou O, chiefly thou O Spirit, thou O Spirit dost, O Spirit dost prefer, Spirit dost prefer Before, dost prefer Before temples, prefer Before temples th, Before temples th upright, temples th upright heart, th upright heart pure, upright heart pure Instruct, heart pure Instruct thou, pure Instruct thou know'st, Instruct thou know'st thou, thou know'st thou first, know'st thou first Wast, thou first Wast present, first Wast present mighty, Wast present mighty wings, present mighty wings outspread, mighty wings outspread Dove-like, wings outspread Dove-like sat'st, outspread Dove-like sat'st brooding, Dove-like sat'st brooding vast, sat'st brooding vast Abyss, brooding vast Abyss And, vast Abyss And mad'st, Abyss And mad'st pregnant, And mad'st pregnant dark, mad'st pregnant dark Illumine, pregnant dark Illumine low, dark Illumine low raise, Illumine low raise support, low raise support That, raise support That height, support That height great, That height great argument, height great argument I, great argument I may, argument I may assert, I may assert Eternal, may assert Eternal Providence, assert Eternal Providence And, Eternal Providence And justify, Providence And justify ways, And justify ways God, justify ways God men]                                                                                                                                                                                                                                                                                                                                                                                                                                                                                                                                                                                                                                                                                                                                                                                                                                                                                                                                  |\n",
            "|[Say first -- Heaven, first -- Heaven hides, -- Heaven hides nothing, Heaven hides nothing thy, hides nothing thy view, nothing thy view Nor, thy view Nor deep, view Nor deep tract, Nor deep tract Hell, deep tract Hell --, tract Hell -- say, Hell -- say first, -- say first cause, say first cause Moved, first cause Moved grand, cause Moved grand parents, Moved grand parents happy, grand parents happy state, parents happy state Favoured, happy state Favoured Heaven, state Favoured Heaven highly, Favoured Heaven highly fall, Heaven highly fall From, highly fall From Creator, fall From Creator transgress, From Creator transgress For, Creator transgress For one, transgress For one restraint, For one restraint lords, one restraint lords World, restraint lords World besides]                                                                                                                                                                                                                                                                                                                                                                                                                                                                                                                                                                                                                                                                                                                                                                                                                                                                                                                                                                                                                                                                                                                                                                                                                                                                                                                                                                                                                                 |\n",
            "|[Who first seduced foul, first seduced foul revolt]                                                                                                                                                                                                                                                                                                                                                                                                                                                                                                                                                                                                                                                                                                                                                                                                                                                                                                                                                                                                                                                                                                                                                                                                                                                                                                                                                                                                                                                                                                                                                                                                                                                                                                                                                                                                                                                                                                                                                                                                                                                                                                                                                                                        |\n",
            "|[Th infernal Serpent whose, infernal Serpent whose guile, Serpent whose guile Stirred, whose guile Stirred envy, guile Stirred envy revenge, Stirred envy revenge deceived, envy revenge deceived The, revenge deceived The mother, deceived The mother mankind, The mother mankind time, mother mankind time pride, mankind time pride Had, time pride Had cast, pride Had cast Heaven, Had cast Heaven host, cast Heaven host Of, Heaven host Of rebel, host Of rebel Angels, Of rebel Angels whose, rebel Angels whose aid, Angels whose aid aspiring, whose aid aspiring To, aid aspiring To set, aspiring To set glory, To set glory peers, set glory peers He, glory peers He trusted, peers He trusted equalled, He trusted equalled Most, trusted equalled Most High, equalled Most High If, Most High If opposed, High If opposed ambitious, If opposed ambitious aim, opposed ambitious aim Against, ambitious aim Against throne, aim Against throne monarchy, Against throne monarchy God, throne monarchy God Raised, monarchy God Raised impious, God Raised impious war, Raised impious war Heaven, impious war Heaven battle, war Heaven battle proud, Heaven battle proud With, battle proud With vain, proud With vain attempt]                                                                                                                                                                                                                                                                                                                                                                                                                                                                                                                                                                                                                                                                                                                                                                                                                                                                                                                                                                                          |\n",
            "|[Him Almighty Power Hurled, Almighty Power Hurled headlong, Power Hurled headlong flaming, Hurled headlong flaming th, headlong flaming th ethereal, flaming th ethereal sky, th ethereal sky With, ethereal sky With hideous, sky With hideous ruin, With hideous ruin combustion, hideous ruin combustion To, ruin combustion To bottomless, combustion To bottomless perdition, To bottomless perdition dwell, bottomless perdition dwell In, perdition dwell In adamantine, dwell In adamantine chains, In adamantine chains penal, adamantine chains penal fire, chains penal fire Who, penal fire Who durst, fire Who durst defy, Who durst defy th, durst defy th Omnipotent, defy th Omnipotent arms]                                                                                                                                                                                                                                                                                                                                                                                                                                                                                                                                                                                                                                                                                                                                                                                                                                                                                                                                                                                                                                                                                                                                                                                                                                                                                                                                                                                                                                                                                                                              |\n",
            "+-------------------------------------------------------------------------------------------------------------------------------------------------------------------------------------------------------------------------------------------------------------------------------------------------------------------------------------------------------------------------------------------------------------------------------------------------------------------------------------------------------------------------------------------------------------------------------------------------------------------------------------------------------------------------------------------------------------------------------------------------------------------------------------------------------------------------------------------------------------------------------------------------------------------------------------------------------------------------------------------------------------------------------------------------------------------------------------------------------------------------------------------------------------------------------------------------------------------------------------------------------------------------------------------------------------------------------------------------------------------------------------------------------------------------------------------------------------------------------------------------------------------------------------------------------------------------------------------------------------------------------------------------------------------------------------------------------------------------------------------------------------------------------------------------------------------------------------------------------------------------------------------------------------------------------------------------------------------------------------------------------------------------------------------------------------------------------------------------------------------------------------------------------------------------------------------------------------------------------------------+\n",
            "only showing top 6 rows\n",
            "\n"
          ]
        }
      ]
    },
    {
      "cell_type": "markdown",
      "metadata": {
        "id": "BozJZvZVJ1ue"
      },
      "source": [
        "* Add the number of words column"
      ]
    },
    {
      "cell_type": "code",
      "metadata": {
        "id": "gnW-5PvwJ1ue"
      },
      "source": [
        "# Transform data\n",
        "len_udf = udf(lambda x: len(x), IntegerType())\n",
        "\n",
        "d5 = d4.withColumn(\"no_of_words\", len_udf(\"words\"))"
      ],
      "execution_count": 27,
      "outputs": []
    },
    {
      "cell_type": "code",
      "metadata": {
        "id": "byxmFkQxJ1ue",
        "colab": {
          "base_uri": "https://localhost:8080/"
        },
        "outputId": "5bd0058f-b401-4d9a-8618-2d3e9149484f"
      },
      "source": [
        "d5.show(5)"
      ],
      "execution_count": 28,
      "outputs": [
        {
          "output_type": "stream",
          "name": "stdout",
          "text": [
            "+--------------------+--------------------+-----------+\n",
            "|           sentences|               words|no_of_words|\n",
            "+--------------------+--------------------+-----------+\n",
            "|[Paradise Lost by...|[Paradise, Lost, ...|         90|\n",
            "|And chiefly thou,...|[And, chiefly, th...|         50|\n",
            "|Say first--for He...|[Say, first, --, ...|         34|\n",
            "|Who first seduced...|[Who, first, sedu...|          5|\n",
            "|Th' infernal Serp...|[Th, infernal, Se...|         50|\n",
            "+--------------------+--------------------+-----------+\n",
            "only showing top 5 rows\n",
            "\n"
          ]
        }
      ]
    },
    {
      "cell_type": "markdown",
      "metadata": {
        "id": "iw8-o6gMJ1ue"
      },
      "source": [
        "##### **POS (part-of-speech) tagging**\n",
        "\n",
        "It is a process of converting a sentence to forms – list of words, list of tuples (where each tuple is having a form (word, tag)). The tag is a part-of-speech tag and signifies whether the word is a noun, adjective, verb, and so on.\n",
        "\n",
        "To know more about POS tagging click [here](https://medium.com/greyatom/learning-pos-tagging-chunking-in-nlp-85f7f811a8cb)."
      ]
    },
    {
      "cell_type": "code",
      "metadata": {
        "id": "U8JhY1RqJ1uf",
        "colab": {
          "base_uri": "https://localhost:8080/"
        },
        "outputId": "acac7953-de8b-4bf0-dd8f-34e96ea5cfb3"
      },
      "source": [
        "# Download dependencies for pos_tag()\n",
        "nltk.download('averaged_perceptron_tagger')"
      ],
      "execution_count": 29,
      "outputs": [
        {
          "output_type": "stream",
          "name": "stdout",
          "text": [
            "[nltk_data] Downloading package averaged_perceptron_tagger to\n",
            "[nltk_data]     /root/nltk_data...\n",
            "[nltk_data]   Unzipping taggers/averaged_perceptron_tagger.zip.\n"
          ]
        },
        {
          "output_type": "execute_result",
          "data": {
            "text/plain": [
              "True"
            ]
          },
          "metadata": {},
          "execution_count": 29
        }
      ]
    },
    {
      "cell_type": "code",
      "metadata": {
        "id": "2M-3UpFRJ1uf"
      },
      "source": [
        "## define schema for returned result from the udf function\n",
        "## the returned result is a list of tuples\n",
        "schema = ArrayType(StructType([\n",
        "            StructField('f1', StringType()),\n",
        "            StructField('f2', StringType())    ]))\n",
        "\n",
        "sent_to_tag_words_udf = udf(lambda x: nltk.pos_tag(x), schema)"
      ],
      "execution_count": 30,
      "outputs": []
    },
    {
      "cell_type": "code",
      "metadata": {
        "id": "PkckMu1MJ1uf",
        "colab": {
          "base_uri": "https://localhost:8080/"
        },
        "outputId": "8141b7da-17e7-41eb-9531-3de44e71a482"
      },
      "source": [
        "# Transform data\n",
        "d6 = d5.withColumn(\"tagged_words\", sent_to_tag_words_udf(\"words\"))\n",
        "d6.show(5) "
      ],
      "execution_count": 31,
      "outputs": [
        {
          "output_type": "stream",
          "name": "stdout",
          "text": [
            "+--------------------+--------------------+-----------+--------------------+\n",
            "|           sentences|               words|no_of_words|        tagged_words|\n",
            "+--------------------+--------------------+-----------+--------------------+\n",
            "|[Paradise Lost by...|[Paradise, Lost, ...|         90|[{Paradise, NN}, ...|\n",
            "|And chiefly thou,...|[And, chiefly, th...|         50|[{And, CC}, {chie...|\n",
            "|Say first--for He...|[Say, first, --, ...|         34|[{Say, NNP}, {fir...|\n",
            "|Who first seduced...|[Who, first, sedu...|          5|[{Who, WP}, {firs...|\n",
            "|Th' infernal Serp...|[Th, infernal, Se...|         50|[{Th, NNP}, {infe...|\n",
            "+--------------------+--------------------+-----------+--------------------+\n",
            "only showing top 5 rows\n",
            "\n"
          ]
        }
      ]
    },
    {
      "cell_type": "markdown",
      "metadata": {
        "id": "1EYWgCKWJ1uf"
      },
      "source": [
        "##### **Frequency Distribution Plot**\n",
        "\n",
        "It gives us information about the number of times a word has occurred within a sentence."
      ]
    },
    {
      "cell_type": "code",
      "metadata": {
        "id": "NWhKkH9-J1uf",
        "colab": {
          "base_uri": "https://localhost:8080/",
          "height": 336
        },
        "outputId": "c4f6967e-3c5a-489f-fc80-1dd7bff35693"
      },
      "source": [
        "from nltk.probability import FreqDist\n",
        "\n",
        "row = d6.select('words').toPandas().iloc[0,0]\n",
        "fd = FreqDist(row) \n",
        "fd.plot(30, cumulative= False)\n",
        "plt.show()"
      ],
      "execution_count": 32,
      "outputs": [
        {
          "output_type": "display_data",
          "data": {
            "image/png": "[encoded data removed]",
            "text/plain": [
              "<Figure size 432x288 with 1 Axes>"
            ]
          },
          "metadata": {
            "needs_background": "light"
          }
        }
      ]
    },
    {
      "cell_type": "code",
      "source": [
        "row = d6.select('words').toPandas().iloc[15,0]\n",
        "fd = FreqDist(row) \n",
        "fd.plot(30, cumulative= False)\n",
        "plt.show()"
      ],
      "metadata": {
        "colab": {
          "base_uri": "https://localhost:8080/",
          "height": 328
        },
        "id": "pKQkQ2VYZO2G",
        "outputId": "ec8d3b51-53f9-4330-cdba-692482c6dbe4"
      },
      "execution_count": 56,
      "outputs": [
        {
          "output_type": "display_data",
          "data": {
            "image/png": "[encoded data removed]",
            "text/plain": [
              "<Figure size 432x288 with 1 Axes>"
            ]
          },
          "metadata": {
            "needs_background": "light"
          }
        }
      ]
    },
    {
      "cell_type": "markdown",
      "metadata": {
        "id": "36AvWojEJ1uf"
      },
      "source": [
        "From the above plot it can be seen that in the first row, the word 'Man' has occurred twice."
      ]
    },
    {
      "cell_type": "markdown",
      "metadata": {
        "id": "IwWhqb88J1uf"
      },
      "source": [
        "##### **Chunking**\n",
        "Chunking is the process of grouping similar words together based on the nature of the word. It is the process of segmenting and labeling multitokens. Let's see how to do a noun phrase chunking on the tagged words data frame from the previous step.\n",
        "\n",
        "First we need to define a udf function that chunks noun phrases from a list of pos-tagged words."
      ]
    },
    {
      "cell_type": "code",
      "metadata": {
        "id": "g08SQc6XJ1ug"
      },
      "source": [
        "# define a udf function to chunk noun phrases from pos-tagged words\n",
        "grammar = \"NP: {<DT>?<JJ>*<NN>}\"\n",
        "chunk_parser = nltk.RegexpParser(grammar)\n",
        "chunk_parser_udf = udf(lambda x: str(chunk_parser.parse(x)), StringType())"
      ],
      "execution_count": 33,
      "outputs": []
    },
    {
      "cell_type": "code",
      "metadata": {
        "id": "PrAbDbOGJ1ug"
      },
      "source": [
        "# Transform data\n",
        "d7 = d6.withColumn(\"NP_chunk\", chunk_parser_udf(\"tagged_words\"))"
      ],
      "execution_count": 34,
      "outputs": []
    },
    {
      "cell_type": "code",
      "metadata": {
        "id": "v0bVIAQOJ1uh",
        "colab": {
          "base_uri": "https://localhost:8080/"
        },
        "outputId": "fbe05d4e-5e32-40f3-ed59-3aa913c9d6d4"
      },
      "source": [
        "d7.select('NP_chunk').show(1, truncate= False)"
      ],
      "execution_count": 35,
      "outputs": [
        {
          "output_type": "stream",
          "name": "stdout",
          "text": [
            "+-------------------------------------------------------------------------------------------------------------------------------------------------------------------------------------------------------------------------------------------------------------------------------------------------------------------------------------------------------------------------------------------------------------------------------------------------------------------------------------------------------------------------------------------------------------------------------------------------------------------------------------------------------------------------------------------------------------------------------------------------------------------------------------------------------------------------------------------------------------------------------------------------------------------------------------------------------------------------------------------------------------------------------------------------------------------------------------------------------------------------------------------------------------------------------------------------------------------------------------------------------------------------+\n",
            "|NP_chunk                                                                                                                                                                                                                                                                                                                                                                                                                                                                                                                                                                                                                                                                                                                                                                                                                                                                                                                                                                                                                                                                                                                                                                                                                                                                 |\n",
            "+-------------------------------------------------------------------------------------------------------------------------------------------------------------------------------------------------------------------------------------------------------------------------------------------------------------------------------------------------------------------------------------------------------------------------------------------------------------------------------------------------------------------------------------------------------------------------------------------------------------------------------------------------------------------------------------------------------------------------------------------------------------------------------------------------------------------------------------------------------------------------------------------------------------------------------------------------------------------------------------------------------------------------------------------------------------------------------------------------------------------------------------------------------------------------------------------------------------------------------------------------------------------------+\n",
            "|(S\\n  (NP Paradise/NN)\\n  Lost/NNP\\n  John/NNP\\n  Milton/NNP\\n  1667/CD\\n  Book/NNP\\n  I/PRP\\n  Of/IN\\n  Man/NNP\\n  's/POS\\n  (NP first/JJ disobedience/NN)\\n  (NP fruit/NN)\\n  Of/IN\\n  (NP forbidden/JJ tree/NN)\\n  whose/WP$\\n  (NP mortal/JJ taste/NN)\\n  Brought/NNP\\n  (NP death/NN)\\n  World/NNP\\n  (NP woe/NN)\\n  With/IN\\n  (NP loss/NN)\\n  Eden/NNP\\n  (NP till/NN)\\n  one/CD\\n  greater/JJR\\n  (NP Man/NN)\\n  Restore/NNP\\n  us/PRP\\n  regain/VBP\\n  (NP blissful/JJ seat/NN)\\n  Sing/VBG\\n  Heavenly/NNP\\n  Muse/NNP\\n  (NP secret/JJ top/NN)\\n  Of/IN\\n  Oreb/NNP\\n  Sinai/NNP\\n  (NP didst/NN)\\n  (NP inspire/NN)\\n  That/WDT\\n  shepherd/VBD\\n  first/RB\\n  taught/JJ\\n  chosen/NNS\\n  (NP seed/NN)\\n  In/IN\\n  beginning/VBG\\n  heavens/NNS\\n  (NP earth/NN)\\n  Rose/NNP\\n  Chaos/NNP\\n  Sion/NNP\\n  (NP hill/NN)\\n  Delight/NNP\\n  thee/VBZ\\n  Siloa/NNP\\n  's/POS\\n  (NP brook/NN)\\n  flowed/VBD\\n  Fast/NNP\\n  oracle/IN\\n  God/NNP\\n  I/PRP\\n  thence/VBP\\n  Invoke/NNP\\n  (NP thy/NN)\\n  (NP aid/NN)\\n  (NP adventurous/JJ song/NN)\\n  That/WDT\\n  (NP middle/JJ flight/NN)\\n  intends/VBZ\\n  soar/VB\\n  Above/NNP\\n  (NP th/NN)\\n  Aonian/NNP\\n  (NP mount/NN)\\n  pursues/NNS\\n  Things/NNP\\n  unattempted/VBD\\n  yet/RB\\n  (NP prose/JJ rhyme/NN))|\n",
            "+-------------------------------------------------------------------------------------------------------------------------------------------------------------------------------------------------------------------------------------------------------------------------------------------------------------------------------------------------------------------------------------------------------------------------------------------------------------------------------------------------------------------------------------------------------------------------------------------------------------------------------------------------------------------------------------------------------------------------------------------------------------------------------------------------------------------------------------------------------------------------------------------------------------------------------------------------------------------------------------------------------------------------------------------------------------------------------------------------------------------------------------------------------------------------------------------------------------------------------------------------------------------------+\n",
            "only showing top 1 row\n",
            "\n"
          ]
        }
      ]
    },
    {
      "cell_type": "code",
      "source": [
        "d7.select('NP_chunk').show(16, truncate= False)"
      ],
      "metadata": {
        "colab": {
          "base_uri": "https://localhost:8080/"
        },
        "id": "pj7Bvoi1RmP_",
        "outputId": "bf21b556-87a1-48a3-f0be-a302fa3a8fa8"
      },
      "execution_count": 42,
      "outputs": [
        {
          "output_type": "stream",
          "name": "stdout",
          "text": [
            "+-------------------------------------------------------------------------------------------------------------------------------------------------------------------------------------------------------------------------------------------------------------------------------------------------------------------------------------------------------------------------------------------------------------------------------------------------------------------------------------------------------------------------------------------------------------------------------------------------------------------------------------------------------------------------------------------------------------------------------------------------------------------------------------------------------------------------------------------------------------------------------------------------------------------------------------------------------------------------------------------------------------------------------------------------------------------------------------------------------------------------------------------------------------------------------------------------------------------------------------------------------------------------+\n",
            "|NP_chunk                                                                                                                                                                                                                                                                                                                                                                                                                                                                                                                                                                                                                                                                                                                                                                                                                                                                                                                                                                                                                                                                                                                                                                                                                                                                 |\n",
            "+-------------------------------------------------------------------------------------------------------------------------------------------------------------------------------------------------------------------------------------------------------------------------------------------------------------------------------------------------------------------------------------------------------------------------------------------------------------------------------------------------------------------------------------------------------------------------------------------------------------------------------------------------------------------------------------------------------------------------------------------------------------------------------------------------------------------------------------------------------------------------------------------------------------------------------------------------------------------------------------------------------------------------------------------------------------------------------------------------------------------------------------------------------------------------------------------------------------------------------------------------------------------------+\n",
            "|(S\\n  (NP Paradise/NN)\\n  Lost/NNP\\n  John/NNP\\n  Milton/NNP\\n  1667/CD\\n  Book/NNP\\n  I/PRP\\n  Of/IN\\n  Man/NNP\\n  's/POS\\n  (NP first/JJ disobedience/NN)\\n  (NP fruit/NN)\\n  Of/IN\\n  (NP forbidden/JJ tree/NN)\\n  whose/WP$\\n  (NP mortal/JJ taste/NN)\\n  Brought/NNP\\n  (NP death/NN)\\n  World/NNP\\n  (NP woe/NN)\\n  With/IN\\n  (NP loss/NN)\\n  Eden/NNP\\n  (NP till/NN)\\n  one/CD\\n  greater/JJR\\n  (NP Man/NN)\\n  Restore/NNP\\n  us/PRP\\n  regain/VBP\\n  (NP blissful/JJ seat/NN)\\n  Sing/VBG\\n  Heavenly/NNP\\n  Muse/NNP\\n  (NP secret/JJ top/NN)\\n  Of/IN\\n  Oreb/NNP\\n  Sinai/NNP\\n  (NP didst/NN)\\n  (NP inspire/NN)\\n  That/WDT\\n  shepherd/VBD\\n  first/RB\\n  taught/JJ\\n  chosen/NNS\\n  (NP seed/NN)\\n  In/IN\\n  beginning/VBG\\n  heavens/NNS\\n  (NP earth/NN)\\n  Rose/NNP\\n  Chaos/NNP\\n  Sion/NNP\\n  (NP hill/NN)\\n  Delight/NNP\\n  thee/VBZ\\n  Siloa/NNP\\n  's/POS\\n  (NP brook/NN)\\n  flowed/VBD\\n  Fast/NNP\\n  oracle/IN\\n  God/NNP\\n  I/PRP\\n  thence/VBP\\n  Invoke/NNP\\n  (NP thy/NN)\\n  (NP aid/NN)\\n  (NP adventurous/JJ song/NN)\\n  That/WDT\\n  (NP middle/JJ flight/NN)\\n  intends/VBZ\\n  soar/VB\\n  Above/NNP\\n  (NP th/NN)\\n  Aonian/NNP\\n  (NP mount/NN)\\n  pursues/NNS\\n  Things/NNP\\n  unattempted/VBD\\n  yet/RB\\n  (NP prose/JJ rhyme/NN))|\n",
            "|(S\\n  And/CC\\n  chiefly/VB\\n  thou/JJ\\n  O/NNP\\n  Spirit/NNP\\n  (NP dost/NN)\\n  (NP prefer/NN)\\n  Before/IN\\n  temples/NNS\\n  th/VBP\\n  (NP upright/JJ heart/NN)\\n  (NP pure/NN)\\n  Instruct/NNP\\n  (NP thou/NN)\\n  (NP know'st/NN)\\n  (NP thou/NN)\\n  first/RB\\n  Wast/NNP\\n  (NP present/JJ mighty/NN)\\n  wings/NNS\\n  outspread/VBP\\n  Dove-like/NNP\\n  (NP sat'st/NN)\\n  brooding/VBG\\n  vast/JJ\\n  Abyss/NNP\\n  And/CC\\n  (NP mad'st/NN)\\n  pregnant/JJ\\n  dark/JJ\\n  Illumine/NNP\\n  (NP low/JJ raise/NN)\\n  (NP support/NN)\\n  That/WDT\\n  height/VBD\\n  (NP great/JJ argument/NN)\\n  I/PRP\\n  may/MD\\n  assert/VB\\n  Eternal/NNP\\n  Providence/NNP\\n  And/CC\\n  justify/VB\\n  ways/NNS\\n  God/NNP\\n  men/NNS)                                                                                                                                                                                                                                                                                                                                                                                                                                                                                                                                                    |\n",
            "|(S\\n  Say/NNP\\n  first/RB\\n  --/:\\n  Heaven/NNP\\n  hides/VBZ\\n  (NP nothing/NN)\\n  (NP thy/JJ view/NN)\\n  Nor/NNP\\n  (NP deep/JJ tract/NN)\\n  Hell/NNP\\n  --/:\\n  say/VBP\\n  (NP first/JJ cause/NN)\\n  Moved/NNP\\n  grand/JJ\\n  parents/NNS\\n  (NP happy/JJ state/NN)\\n  Favoured/VBD\\n  Heaven/NNP\\n  highly/RB\\n  fall/VBP\\n  From/NNP\\n  Creator/NNP\\n  (NP transgress/NN)\\n  For/IN\\n  one/CD\\n  (NP restraint/NN)\\n  lords/NNS\\n  World/NNP\\n  besides/IN)                                                                                                                                                                                                                                                                                                                                                                                                                                                                                                                                                                                                                                                                                                                                                                                                          |\n",
            "|(S Who/WP first/RB seduced/VBD (NP foul/JJ revolt/NN))                                                                                                                                                                                                                                                                                                                                                                                                                                                                                                                                                                                                                                                                                                                                                                                                                                                                                                                                                                                                                                                                                                                                                                                                                   |\n",
            "|(S\\n  Th/NNP\\n  infernal/JJ\\n  Serpent/NNP\\n  whose/WP$\\n  (NP guile/NN)\\n  Stirred/NNP\\n  (NP envy/NN)\\n  (NP revenge/NN)\\n  deceived/VBD\\n  (NP The/DT mother/NN)\\n  (NP mankind/NN)\\n  (NP time/NN)\\n  (NP pride/NN)\\n  Had/VBD\\n  cast/VBN\\n  Heaven/NNP\\n  (NP host/NN)\\n  Of/IN\\n  (NP rebel/NN)\\n  Angels/NNP\\n  whose/WP$\\n  (NP aid/NN)\\n  aspiring/VBG\\n  To/TO\\n  set/VB\\n  (NP glory/NN)\\n  peers/NNS\\n  He/PRP\\n  trusted/VBD\\n  equalled/VBD\\n  Most/JJS\\n  High/JJ\\n  If/IN\\n  opposed/VBN\\n  (NP ambitious/JJ aim/NN)\\n  Against/NNP\\n  (NP throne/NN)\\n  (NP monarchy/NN)\\n  God/NNP\\n  Raised/VBD\\n  (NP impious/JJ war/NN)\\n  Heaven/NNP\\n  (NP battle/NN)\\n  (NP proud/NN)\\n  With/IN\\n  (NP vain/NN)\\n  (NP attempt/NN))                                                                                                                                                                                                                                                                                                                                                                                                                                                                                                                            |\n",
            "|(S\\n  Him/NNP\\n  Almighty/NNP\\n  Power/NNP\\n  Hurled/NNP\\n  headlong/RB\\n  flaming/VBG\\n  (NP th/JJ ethereal/JJ sky/NN)\\n  With/IN\\n  hideous/JJ\\n  ruin/NNS\\n  (NP combustion/NN)\\n  To/TO\\n  bottomless/VB\\n  (NP perdition/NN)\\n  (NP dwell/NN)\\n  In/IN\\n  (NP adamantine/NN)\\n  chains/NNS\\n  (NP penal/JJ fire/NN)\\n  Who/WP\\n  durst/VBZ\\n  (NP defy/NN)\\n  th/JJ\\n  Omnipotent/NNP\\n  arms/NNS)                                                                                                                                                                                                                                                                                                                                                                                                                                                                                                                                                                                                                                                                                                                                                                                                                                                                  |\n",
            "|(S\\n  Nine/NNP\\n  times/NNS\\n  (NP space/NN)\\n  measures/NNS\\n  (NP day/NN)\\n  (NP night/NN)\\n  To/TO\\n  mortal/VB\\n  men/NNS\\n  horrid/VB\\n  crew/NNS\\n  Lay/NNP\\n  vanquished/VBD\\n  rolling/VBG\\n  (NP fiery/NN)\\n  (NP gulf/NN)\\n  Confounded/NNP\\n  though/IN\\n  immortal/JJ)                                                                                                                                                                                                                                                                                                                                                                                                                                                                                                                                                                                                                                                                                                                                                                                                                                                                                                                                                                                       |\n",
            "|(S\\n  But/CC\\n  (NP doom/NN)\\n  Reserved/NNP\\n  (NP wrath/NN)\\n  thought/VBD\\n  (NP Both/DT lost/JJ happiness/NN)\\n  lasting/VBG\\n  (NP pain/NN)\\n  Torments/NNS\\n  (NP round/NN)\\n  throws/VBZ\\n  baleful/JJ\\n  eyes/NNS\\n  That/WDT\\n  witnessed/VBD\\n  (NP huge/JJ affliction/NN)\\n  (NP dismay/NN)\\n  Mixed/NNP\\n  (NP obdurate/NN)\\n  (NP pride/NN)\\n  (NP steadfast/NN)\\n  (NP hate/NN))                                                                                                                                                                                                                                                                                                                                                                                                                                                                                                                                                                                                                                                                                                                                                                                                                                                                           |\n",
            "|(S\\n  At/IN\\n  far/RB\\n  Angels/NNP\\n  ken/VBN\\n  views/VBZ\\n  (NP The/DT dismal/JJ situation/NN)\\n  (NP waste/NN)\\n  wild/JJ)                                                                                                                                                                                                                                                                                                                                                                                                                                                                                                                                                                                                                                                                                                                                                                                                                                                                                                                                                                                                                                                                                                                                           |\n",
            "|(S\\n  (NP A/DT dungeon/NN)\\n  horrible/JJ\\n  sides/NNS\\n  round/VBP\\n  As/IN\\n  one/CD\\n  (NP great/JJ furnace/NN)\\n  flamed/VBN\\n  yet/RB\\n  flames/JJ\\n  No/NNP\\n  (NP light/NN)\\n  rather/RB\\n  darkness/JJ\\n  visible/JJ\\n  Served/VBD\\n  discover/JJ\\n  sights/NNS\\n  (NP woe/NN)\\n  Regions/NNP\\n  (NP sorrow/NN)\\n  doleful/JJ\\n  shades/NNS\\n  (NP peace/NN)\\n  And/CC\\n  rest/VB\\n  never/RB\\n  dwell/VBP\\n  hope/VBP\\n  never/RB\\n  comes/VBZ\\n  That/IN\\n  comes/VBZ\\n  (NP torture/NN)\\n  without/IN\\n  (NP end/NN)\\n  Still/RB\\n  urges/VBZ\\n  (NP fiery/JJ deluge/NN)\\n  fed/VBN\\n  With/IN\\n  (NP ever-burning/JJ sulphur/NN)\\n  unconsumed/VBD)                                                                                                                                                                                                                                                                                                                                                                                                                                                                                                                                                                                                          |\n",
            "|(S\\n  (NP Such/JJ place/NN)\\n  Eternal/NNP\\n  Justice/NNP\\n  prepared/VBD\\n  For/IN\\n  (NP rebellious/JJ prison/NN)\\n  ordained/VBN\\n  In/IN\\n  (NP utter/JJ darkness/JJ portion/NN)\\n  set/VBN\\n  As/IN\\n  far/RB\\n  removed/VBN\\n  God/NNP\\n  light/JJ\\n  Heaven/NNP\\n  As/NNP\\n  (NP centre/NN)\\n  (NP thrice/NN)\\n  (NP th/NN)\\n  (NP utmost/JJ pole/NN))                                                                                                                                                                                                                                                                                                                                                                                                                                                                                                                                                                                                                                                                                                                                                                                                                                                                                                            |\n",
            "|(S Oh/UH unlike/IN (NP place/NN) (NP whence/NN) fell/VBD)                                                                                                                                                                                                                                                                                                                                                                                                                                                                                                                                                                                                                                                                                                                                                                                                                                                                                                                                                                                                                                                                                                                                                                                                                |\n",
            "|(S\\n  There/EX\\n  companions/NNS\\n  (NP fall/NN)\\n  o'erwhelmed/VBN\\n  With/IN\\n  floods/NNS\\n  whirlwinds/NNS\\n  (NP tempestuous/JJ fire/NN)\\n  He/PRP\\n  soon/RB\\n  discerns/VBZ\\n  weltering/VBG\\n  side/VB\\n  One/CD\\n  (NP next/JJ power/NN)\\n  (NP next/JJ crime/NN)\\n  Long/NNP\\n  known/VBN\\n  Palestine/NNP\\n  named/VBD\\n  Beelzebub/NNP)                                                                                                                                                                                                                                                                                                                                                                                                                                                                                                                                                                                                                                                                                                                                                                                                                                                                                                                      |\n",
            "|(S\\n  To/TO\\n  th/VB\\n  Arch-Enemy/NNP\\n  And/CC\\n  (NP thence/NN)\\n  Heaven/NNP\\n  called/VBD\\n  Satan/NNP\\n  (NP bold/NN)\\n  words/NNS\\n  Breaking/NNP\\n  (NP horrid/JJ silence/NN)\\n  thus/RB\\n  began/VBD\\n  --/:\\n  ``/``\\n  If/IN\\n  thou/JJ\\n  beest/JJS\\n  --/:\\n  O/NNP\\n  (NP fallen/NN))                                                                                                                                                                                                                                                                                                                                                                                                                                                                                                                                                                                                                                                                                                                                                                                                                                                                                                                                                                      |\n",
            "|(S\\n  changed/VBN\\n  From/IN\\n  happy/JJ\\n  realms/NNS\\n  light/VBD\\n  Clothed/NNP\\n  (NP transcendent/NN)\\n  (NP brightness/NN)\\n  (NP didst/NN)\\n  (NP outshine/NN)\\n  Myriads/NNP\\n  though/IN\\n  bright/JJ\\n  --/:\\n  (NP mutual/JJ league/NN)\\n  United/NNP\\n  thoughts/NNS\\n  counsels/NNS\\n  (NP equal/JJ hope/NN)\\n  And/CC\\n  hazard/RB\\n  (NP glorious/JJ enterprise/NN)\\n  Joined/VBD\\n  (NP misery/JJ hath/NN)\\n  joined/VBD\\n  In/IN\\n  (NP equal/JJ ruin/NN)\\n  (NP pit/NN)\\n  (NP thou/NN)\\n  (NP seest/NN)\\n  From/IN\\n  height/JJ\\n  fallen/VBN\\n  much/RB\\n  stronger/JJR\\n  proved/VBD\\n  He/PRP\\n  thunder/VB\\n  till/VB\\n  knew/VB\\n  (NP The/DT force/NN)\\n  (NP dire/NN)\\n  arms/NNS)                                                                                                                                                                                                                                                                                                                                                                                                                                                                                                                                                             |\n",
            "|(S\\n  Yet/RB\\n  Nor/NNP\\n  (NP potent/NN)\\n  Victor/NNP\\n  (NP rage/NN)\\n  Can/NNP\\n  else/RB\\n  inflict/VBP\\n  I/PRP\\n  (NP repent/JJ change/NN)\\n  Though/NNP\\n  changed/VBD\\n  outward/RB\\n  lustre/JJ\\n  fixed/VBN\\n  (NP mind/NN)\\n  And/CC\\n  (NP high/JJ disdain/NN)\\n  (NP sense/NN)\\n  injured/VBD\\n  (NP merit/NN)\\n  That/IN\\n  Mightiest/NNP\\n  raised/VBD\\n  (NP contend/NN)\\n  And/CC\\n  fierce/JJ\\n  contentions/NNS\\n  brought/VBD\\n  along/RB\\n  (NP Innumerable/JJ force/NN)\\n  Spirits/NNP\\n  armed/VBD\\n  That/IN\\n  (NP durst/JJ dislike/NN)\\n  (NP reign/NN)\\n  preferring/VBG\\n  His/PRP$\\n  (NP utmost/JJ power/NN)\\n  (NP adverse/JJ power/NN)\\n  opposed/VBN\\n  In/IN\\n  (NP dubious/JJ battle/NN)\\n  plains/NNS\\n  Heaven/NNP\\n  And/CC\\n  shook/VBD\\n  (NP throne/NN))                                                                                                                                                                                                                                                                                                                                                                                                                                                                       |\n",
            "+-------------------------------------------------------------------------------------------------------------------------------------------------------------------------------------------------------------------------------------------------------------------------------------------------------------------------------------------------------------------------------------------------------------------------------------------------------------------------------------------------------------------------------------------------------------------------------------------------------------------------------------------------------------------------------------------------------------------------------------------------------------------------------------------------------------------------------------------------------------------------------------------------------------------------------------------------------------------------------------------------------------------------------------------------------------------------------------------------------------------------------------------------------------------------------------------------------------------------------------------------------------------------+\n",
            "only showing top 16 rows\n",
            "\n"
          ]
        }
      ]
    },
    {
      "cell_type": "code",
      "source": [
        "d7.withColumn()"
      ],
      "metadata": {
        "id": "pmexLfkFSQMN"
      },
      "execution_count": null,
      "outputs": []
    },
    {
      "cell_type": "code",
      "source": [
        "row = d7.select('words').toPandas().iloc[15,0]\n",
        "fd = FreqDist(row) \n",
        "fd.plot(30, cumulative= False)\n",
        "plt.show()"
      ],
      "metadata": {
        "colab": {
          "base_uri": "https://localhost:8080/",
          "height": 328
        },
        "id": "Z07s3BzUaEI3",
        "outputId": "c262251b-a770-4392-ced6-e30d3612a339"
      },
      "execution_count": 57,
      "outputs": [
        {
          "output_type": "display_data",
          "data": {
            "image/png": "[encoded data removed]",
            "text/plain": [
              "<Figure size 432x288 with 1 Axes>"
            ]
          },
          "metadata": {
            "needs_background": "light"
          }
        }
      ]
    },
    {
      "cell_type": "markdown",
      "metadata": {
        "id": "5l8mSsydJ1uh"
      },
      "source": [
        "#### Load data"
      ]
    },
    {
      "cell_type": "markdown",
      "metadata": {
        "id": "8wG_GKthJ1uh"
      },
      "source": [
        "**Use Parquet file to store data**"
      ]
    },
    {
      "cell_type": "code",
      "metadata": {
        "id": "Jwz7yHbcJ1uh"
      },
      "source": [
        "d7.write.format(\"parquet\").mode(\"overwrite\").save(\"transformed_text_parquet_data\")"
      ],
      "execution_count": 36,
      "outputs": []
    },
    {
      "cell_type": "markdown",
      "metadata": {
        "id": "Vn8a8aVKJ1uh"
      },
      "source": [
        "**Read data from Parquet file**"
      ]
    },
    {
      "cell_type": "code",
      "metadata": {
        "id": "zU67l4gUJ1uh"
      },
      "source": [
        "df_text_parquet = spark.read.format(\"parquet\").load(\"transformed_text_parquet_data\")"
      ],
      "execution_count": 37,
      "outputs": []
    },
    {
      "cell_type": "code",
      "metadata": {
        "id": "yonfCe5wJ1ui",
        "colab": {
          "base_uri": "https://localhost:8080/"
        },
        "outputId": "97470079-c2f8-4569-decc-a70a06c320cd"
      },
      "source": [
        "df_text_parquet.show(5)"
      ],
      "execution_count": 38,
      "outputs": [
        {
          "output_type": "stream",
          "name": "stdout",
          "text": [
            "+--------------------+--------------------+-----------+--------------------+--------------------+\n",
            "|           sentences|               words|no_of_words|        tagged_words|            NP_chunk|\n",
            "+--------------------+--------------------+-----------+--------------------+--------------------+\n",
            "|[Paradise Lost by...|[Paradise, Lost, ...|         90|[{Paradise, NN}, ...|(S\\n  (NP Paradis...|\n",
            "|And chiefly thou,...|[And, chiefly, th...|         50|[{And, CC}, {chie...|(S\\n  And/CC\\n  c...|\n",
            "|Say first--for He...|[Say, first, --, ...|         34|[{Say, NNP}, {fir...|(S\\n  Say/NNP\\n  ...|\n",
            "|Who first seduced...|[Who, first, sedu...|          5|[{Who, WP}, {firs...|(S Who/WP first/R...|\n",
            "|Th' infernal Serp...|[Th, infernal, Se...|         50|[{Th, NNP}, {infe...|(S\\n  Th/NNP\\n  i...|\n",
            "+--------------------+--------------------+-----------+--------------------+--------------------+\n",
            "only showing top 5 rows\n",
            "\n"
          ]
        }
      ]
    },
    {
      "cell_type": "markdown",
      "metadata": {
        "id": "IsSrVl6bJ1ui"
      },
      "source": [
        "**Store the data as a `json file`**"
      ]
    },
    {
      "cell_type": "code",
      "metadata": {
        "id": "B5Jobed2J1ui"
      },
      "source": [
        "d7.write.format(\"json\").mode(\"overwrite\").save('transformed_text_json_data.json')"
      ],
      "execution_count": 39,
      "outputs": []
    },
    {
      "cell_type": "markdown",
      "metadata": {
        "id": "IxhbRkgOJ1ui"
      },
      "source": [
        "**Read data from `json` to spark dataframe**"
      ]
    },
    {
      "cell_type": "code",
      "metadata": {
        "id": "IXldw5HBJ1ui"
      },
      "source": [
        "df_text_json = spark.read.format(\"json\").load('transformed_text_json_data.json')"
      ],
      "execution_count": 40,
      "outputs": []
    },
    {
      "cell_type": "code",
      "metadata": {
        "id": "jcb-LBjAJ1ui",
        "colab": {
          "base_uri": "https://localhost:8080/"
        },
        "outputId": "390c2f86-d0d1-4cd4-b222-d55b8ea42735"
      },
      "source": [
        "df_text_json.show(5)"
      ],
      "execution_count": 41,
      "outputs": [
        {
          "output_type": "stream",
          "name": "stdout",
          "text": [
            "+--------------------+-----------+--------------------+--------------------+--------------------+\n",
            "|            NP_chunk|no_of_words|           sentences|        tagged_words|               words|\n",
            "+--------------------+-----------+--------------------+--------------------+--------------------+\n",
            "|(S\\n  (NP Paradis...|         90|[Paradise Lost by...|[{Paradise, NN}, ...|[Paradise, Lost, ...|\n",
            "|(S\\n  And/CC\\n  c...|         50|And chiefly thou,...|[{And, CC}, {chie...|[And, chiefly, th...|\n",
            "|(S\\n  Say/NNP\\n  ...|         34|Say first--for He...|[{Say, NNP}, {fir...|[Say, first, --, ...|\n",
            "|(S Who/WP first/R...|          5|Who first seduced...|[{Who, WP}, {firs...|[Who, first, sedu...|\n",
            "|(S\\n  Th/NNP\\n  i...|         50|Th' infernal Serp...|[{Th, NNP}, {infe...|[Th, infernal, Se...|\n",
            "+--------------------+-----------+--------------------+--------------------+--------------------+\n",
            "only showing top 5 rows\n",
            "\n"
          ]
        }
      ]
    },
    {
      "cell_type": "markdown",
      "metadata": {
        "id": "VHfHdGCP_n6Y"
      },
      "source": [
        "### Please answer the questions below to complete the experiment:\n",
        "\n",
        "\n"
      ]
    },
    {
      "cell_type": "code",
      "metadata": {
        "id": "VgSwVENIPcM6"
      },
      "source": [
        "# @title Considering the 16th row of transformed spark dataframe (d7), how many words occur more than once? { run: \"auto\", form-width: \"500px\", display-mode: \"form\" }\n",
        "Answer = \"3\" #@param [\"\",\"1\",\"2\",\"3\"]"
      ],
      "execution_count": 43,
      "outputs": []
    },
    {
      "cell_type": "code",
      "metadata": {
        "id": "NMzKSbLIgFzQ"
      },
      "source": [
        "#@title How was the experiment? { run: \"auto\", form-width: \"500px\", display-mode: \"form\" }\n",
        "Complexity = \"Good and Challenging for me\" #@param [\"\",\"Too Simple, I am wasting time\", \"Good, But Not Challenging for me\", \"Good and Challenging for me\", \"Was Tough, but I did it\", \"Too Difficult for me\"]\n"
      ],
      "execution_count": 45,
      "outputs": []
    },
    {
      "cell_type": "code",
      "metadata": {
        "id": "DjcH1VWSFI2l"
      },
      "source": [
        "#@title If it was too easy, what more would you have liked to be added? If it was very difficult, what would you have liked to have been removed? { run: \"auto\", display-mode: \"form\" }\n",
        "Additional = \"na\" #@param {type:\"string\"}\n"
      ],
      "execution_count": 46,
      "outputs": []
    },
    {
      "cell_type": "code",
      "metadata": {
        "id": "4VBk_4VTAxCM"
      },
      "source": [
        "#@title Can you identify the concepts from the lecture which this experiment covered? { run: \"auto\", vertical-output: true, display-mode: \"form\" }\n",
        "Concepts = \"Yes\" #@param [\"\",\"Yes\", \"No\"]\n"
      ],
      "execution_count": 47,
      "outputs": []
    },
    {
      "cell_type": "code",
      "metadata": {
        "id": "XH91cL1JWH7m"
      },
      "source": [
        "#@title  Text and image description/explanation and code comments within the experiment: { run: \"auto\", vertical-output: true, display-mode: \"form\" }\n",
        "Comments = \"Very Useful\" #@param [\"\",\"Very Useful\", \"Somewhat Useful\", \"Not Useful\", \"Didn't use\"]\n"
      ],
      "execution_count": 48,
      "outputs": []
    },
    {
      "cell_type": "code",
      "metadata": {
        "id": "z8xLqj7VWIKW"
      },
      "source": [
        "#@title Mentor Support: { run: \"auto\", vertical-output: true, display-mode: \"form\" }\n",
        "Mentor_support = \"Very Useful\" #@param [\"\",\"Very Useful\", \"Somewhat Useful\", \"Not Useful\", \"Didn't use\"]\n"
      ],
      "execution_count": 49,
      "outputs": []
    },
    {
      "cell_type": "code",
      "metadata": {
        "id": "FzAZHt1zw-Y-",
        "cellView": "form",
        "colab": {
          "base_uri": "https://localhost:8080/"
        },
        "outputId": "bd90966e-7319-4a24-9f1b-b8368f9ed328"
      },
      "source": [
        "#@title Run this cell to submit your notebook for grading { vertical-output: true }\n",
        "try:\n",
        "  if submission_id:\n",
        "      return_id = submit_notebook()\n",
        "      if return_id : submission_id = return_id\n",
        "  else:\n",
        "      print(\"Please complete the setup first.\")\n",
        "except NameError:\n",
        "  print (\"Please complete the setup first.\")"
      ],
      "execution_count": 58,
      "outputs": [
        {
          "output_type": "stream",
          "name": "stdout",
          "text": [
            "Your submission is successful.\n",
            "Ref Id: 6743\n",
            "Date of submission:  01 Feb 2022\n",
            "Time of submission:  18:41:31\n",
            "View your submissions: https://cds.iisc.talentsprint.com/notebook_submissions\n"
          ]
        }
      ]
    },
    {
      "cell_type": "code",
      "source": [
        ""
      ],
      "metadata": {
        "id": "JbfoBoD9z9Bb"
      },
      "execution_count": null,
      "outputs": []
    }
  ]
}